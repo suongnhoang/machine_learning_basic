{
 "cells": [
  {
   "cell_type": "code",
   "execution_count": 4,
   "metadata": {},
   "outputs": [],
   "source": [
    "import pandas as pd\n",
    "import numpy as np\n",
    "from sklearn.preprocessing import MinMaxScaler\n",
    "from sklearn.model_selection import train_test_split\n",
    "from sklearn.metrics import confusion_matrix\n",
    "\n",
    "import matplotlib.pyplot as plt\n",
    "%matplotlib inline"
   ]
  },
  {
   "cell_type": "code",
   "execution_count": 5,
   "metadata": {},
   "outputs": [
    {
     "data": {
      "text/html": [
       "<div>\n",
       "<style scoped>\n",
       "    .dataframe tbody tr th:only-of-type {\n",
       "        vertical-align: middle;\n",
       "    }\n",
       "\n",
       "    .dataframe tbody tr th {\n",
       "        vertical-align: top;\n",
       "    }\n",
       "\n",
       "    .dataframe thead th {\n",
       "        text-align: right;\n",
       "    }\n",
       "</style>\n",
       "<table border=\"1\" class=\"dataframe\">\n",
       "  <thead>\n",
       "    <tr style=\"text-align: right;\">\n",
       "      <th></th>\n",
       "      <th>Open</th>\n",
       "      <th>High</th>\n",
       "      <th>Low</th>\n",
       "      <th>Close</th>\n",
       "      <th>Volume</th>\n",
       "      <th>body</th>\n",
       "      <th>upper_tail</th>\n",
       "      <th>lower_tail</th>\n",
       "      <th>up_down</th>\n",
       "    </tr>\n",
       "  </thead>\n",
       "  <tbody>\n",
       "    <tr>\n",
       "      <th>0</th>\n",
       "      <td>1.45865</td>\n",
       "      <td>1.45885</td>\n",
       "      <td>1.45856</td>\n",
       "      <td>1.45873</td>\n",
       "      <td>5004.3375</td>\n",
       "      <td>0.8</td>\n",
       "      <td>1.2</td>\n",
       "      <td>0.9</td>\n",
       "      <td>0</td>\n",
       "    </tr>\n",
       "    <tr>\n",
       "      <th>1</th>\n",
       "      <td>1.45883</td>\n",
       "      <td>1.45883</td>\n",
       "      <td>1.45847</td>\n",
       "      <td>1.45863</td>\n",
       "      <td>4649.9000</td>\n",
       "      <td>-2.0</td>\n",
       "      <td>0.0</td>\n",
       "      <td>1.6</td>\n",
       "      <td>1</td>\n",
       "    </tr>\n",
       "    <tr>\n",
       "      <th>2</th>\n",
       "      <td>1.45863</td>\n",
       "      <td>1.45896</td>\n",
       "      <td>1.45845</td>\n",
       "      <td>1.45886</td>\n",
       "      <td>5283.9500</td>\n",
       "      <td>2.3</td>\n",
       "      <td>1.0</td>\n",
       "      <td>1.8</td>\n",
       "      <td>1</td>\n",
       "    </tr>\n",
       "    <tr>\n",
       "      <th>3</th>\n",
       "      <td>1.45865</td>\n",
       "      <td>1.45905</td>\n",
       "      <td>1.45842</td>\n",
       "      <td>1.45895</td>\n",
       "      <td>5370.3375</td>\n",
       "      <td>3.0</td>\n",
       "      <td>1.0</td>\n",
       "      <td>2.3</td>\n",
       "      <td>0</td>\n",
       "    </tr>\n",
       "    <tr>\n",
       "      <th>4</th>\n",
       "      <td>1.45902</td>\n",
       "      <td>1.45905</td>\n",
       "      <td>1.45857</td>\n",
       "      <td>1.45887</td>\n",
       "      <td>3738.9375</td>\n",
       "      <td>-1.5</td>\n",
       "      <td>0.3</td>\n",
       "      <td>3.0</td>\n",
       "      <td>1</td>\n",
       "    </tr>\n",
       "    <tr>\n",
       "      <th>...</th>\n",
       "      <td>...</td>\n",
       "      <td>...</td>\n",
       "      <td>...</td>\n",
       "      <td>...</td>\n",
       "      <td>...</td>\n",
       "      <td>...</td>\n",
       "      <td>...</td>\n",
       "      <td>...</td>\n",
       "      <td>...</td>\n",
       "    </tr>\n",
       "    <tr>\n",
       "      <th>995</th>\n",
       "      <td>1.47687</td>\n",
       "      <td>1.47701</td>\n",
       "      <td>1.47598</td>\n",
       "      <td>1.47622</td>\n",
       "      <td>2200.4000</td>\n",
       "      <td>-6.5</td>\n",
       "      <td>1.4</td>\n",
       "      <td>2.4</td>\n",
       "      <td>1</td>\n",
       "    </tr>\n",
       "    <tr>\n",
       "      <th>996</th>\n",
       "      <td>1.47626</td>\n",
       "      <td>1.47678</td>\n",
       "      <td>1.47595</td>\n",
       "      <td>1.47632</td>\n",
       "      <td>1416.6000</td>\n",
       "      <td>0.6</td>\n",
       "      <td>4.6</td>\n",
       "      <td>3.1</td>\n",
       "      <td>1</td>\n",
       "    </tr>\n",
       "    <tr>\n",
       "      <th>997</th>\n",
       "      <td>1.47627</td>\n",
       "      <td>1.47709</td>\n",
       "      <td>1.47603</td>\n",
       "      <td>1.47692</td>\n",
       "      <td>1418.7000</td>\n",
       "      <td>6.5</td>\n",
       "      <td>1.7</td>\n",
       "      <td>2.4</td>\n",
       "      <td>1</td>\n",
       "    </tr>\n",
       "    <tr>\n",
       "      <th>998</th>\n",
       "      <td>1.47700</td>\n",
       "      <td>1.47756</td>\n",
       "      <td>1.47657</td>\n",
       "      <td>1.47732</td>\n",
       "      <td>1718.9000</td>\n",
       "      <td>3.2</td>\n",
       "      <td>2.4</td>\n",
       "      <td>4.3</td>\n",
       "      <td>0</td>\n",
       "    </tr>\n",
       "    <tr>\n",
       "      <th>999</th>\n",
       "      <td>1.47728</td>\n",
       "      <td>1.47747</td>\n",
       "      <td>1.47696</td>\n",
       "      <td>1.47710</td>\n",
       "      <td>1161.3000</td>\n",
       "      <td>-1.8</td>\n",
       "      <td>1.9</td>\n",
       "      <td>1.4</td>\n",
       "      <td>0</td>\n",
       "    </tr>\n",
       "  </tbody>\n",
       "</table>\n",
       "<p>1000 rows × 9 columns</p>\n",
       "</div>"
      ],
      "text/plain": [
       "        Open     High      Low    Close     Volume  body  upper_tail  \\\n",
       "0    1.45865  1.45885  1.45856  1.45873  5004.3375   0.8         1.2   \n",
       "1    1.45883  1.45883  1.45847  1.45863  4649.9000  -2.0         0.0   \n",
       "2    1.45863  1.45896  1.45845  1.45886  5283.9500   2.3         1.0   \n",
       "3    1.45865  1.45905  1.45842  1.45895  5370.3375   3.0         1.0   \n",
       "4    1.45902  1.45905  1.45857  1.45887  3738.9375  -1.5         0.3   \n",
       "..       ...      ...      ...      ...        ...   ...         ...   \n",
       "995  1.47687  1.47701  1.47598  1.47622  2200.4000  -6.5         1.4   \n",
       "996  1.47626  1.47678  1.47595  1.47632  1416.6000   0.6         4.6   \n",
       "997  1.47627  1.47709  1.47603  1.47692  1418.7000   6.5         1.7   \n",
       "998  1.47700  1.47756  1.47657  1.47732  1718.9000   3.2         2.4   \n",
       "999  1.47728  1.47747  1.47696  1.47710  1161.3000  -1.8         1.9   \n",
       "\n",
       "     lower_tail  up_down  \n",
       "0           0.9        0  \n",
       "1           1.6        1  \n",
       "2           1.8        1  \n",
       "3           2.3        0  \n",
       "4           3.0        1  \n",
       "..          ...      ...  \n",
       "995         2.4        1  \n",
       "996         3.1        1  \n",
       "997         2.4        1  \n",
       "998         4.3        0  \n",
       "999         1.4        0  \n",
       "\n",
       "[1000 rows x 9 columns]"
      ]
     },
     "execution_count": 5,
     "metadata": {},
     "output_type": "execute_result"
    }
   ],
   "source": [
    "df =pd.read_csv('./sample_datas/isods_forex/isods_train_small_1000.csv')\n",
    "df"
   ]
  },
  {
   "cell_type": "code",
   "execution_count": 6,
   "metadata": {},
   "outputs": [],
   "source": [
    "# convert an array of values into a dataset matrix\n",
    "def create_dataset(dataset, look_back=10, is_test = False):\n",
    "    dataX, dataY_Regression, dataY_Classification = [], [], []\n",
    "    \n",
    "    if(is_test):\n",
    "        X = dataset\n",
    "    else:\n",
    "        X = dataset[:,0:-1]\n",
    "        Y_C = dataset[:,-1]\n",
    "      \n",
    "    if not (is_test):\n",
    "        close = np.expand_dims(dataset[:,3], axis=1)\n",
    "        close_scaler = MinMaxScaler(copy=True,feature_range=(0, 1))\n",
    "        close_scaler.fit(close)    \n",
    "        scaler = MinMaxScaler(copy=True,feature_range=(0, 1))\n",
    "        X = scaler.fit_transform(X)\n",
    "    \n",
    "    for i in range(len(dataset)-look_back):\n",
    "        if(is_test):\n",
    "            a = X[i:(i+look_back),:]\n",
    "            dataX.append(a)\n",
    "            dataY_Regression.append(X[i + look_back, 3])\n",
    "            \n",
    "            if(i + look_back < len(X) - 1):\n",
    "                if(X[i + look_back + 1, 3] > X[i + look_back, 3]): #TODO:\n",
    "                    dataY_Classification.append([1,0])\n",
    "                else:\n",
    "                    dataY_Classification.append([0,1])\n",
    "            else:\n",
    "                dataY_Classification.append([1,0])       \n",
    "        else:\n",
    "            a = X[i:(i+look_back),:]\n",
    "            dataX.append(a)\n",
    "            dataY_Regression.append(X[i + look_back, 3])\n",
    "            \n",
    "            if(Y_C[i + look_back - 1] == 1):\n",
    "                dataY_Classification.append([1,0])\n",
    "            else:\n",
    "                dataY_Classification.append([0,1])\n",
    "    \n",
    "    if (is_test):\n",
    "        return np.array(dataX), np.array(dataY_Regression), np.array(dataY_Classification)\n",
    "    else:\n",
    "        return np.array(dataX), np.array(dataY_Regression), np.array(dataY_Classification), scaler, close_scaler"
   ]
  },
  {
   "cell_type": "code",
   "execution_count": 7,
   "metadata": {},
   "outputs": [],
   "source": [
    "def plot_confusion_matrix(cm,\n",
    "                          target_names,\n",
    "                          title='Confusion matrix',\n",
    "                          cmap=None,\n",
    "                          normalize=True):\n",
    "\n",
    "    import matplotlib.pyplot as plt\n",
    "    import numpy as np\n",
    "    import itertools\n",
    "\n",
    "    accuracy = np.trace(cm) / float(np.sum(cm))\n",
    "    misclass = 1 - accuracy\n",
    "\n",
    "    if cmap is None:\n",
    "        cmap = plt.get_cmap('Blues')\n",
    "\n",
    "    plt.figure(figsize=(8, 6))\n",
    "    plt.imshow(cm, interpolation='nearest', cmap=cmap)\n",
    "    plt.title(title)\n",
    "    plt.colorbar()\n",
    "\n",
    "    if target_names is not None:\n",
    "        tick_marks = np.arange(len(target_names))\n",
    "        plt.xticks(tick_marks, target_names, rotation=45)\n",
    "        plt.yticks(tick_marks, target_names)\n",
    "\n",
    "    if normalize:\n",
    "        cm = cm.astype('float') / cm.sum(axis=1)[:, np.newaxis]\n",
    "\n",
    "\n",
    "    thresh = cm.max() / 1.5 if normalize else cm.max() / 2\n",
    "    for i, j in itertools.product(range(cm.shape[0]), range(cm.shape[1])):\n",
    "        if normalize:\n",
    "            plt.text(j, i, \"{:0.4f}\".format(cm[i, j]),\n",
    "                     horizontalalignment=\"center\",\n",
    "                     color=\"white\" if cm[i, j] > thresh else \"black\")\n",
    "        else:\n",
    "            plt.text(j, i, \"{:,}\".format(cm[i, j]),\n",
    "                     horizontalalignment=\"center\",\n",
    "                     color=\"white\" if cm[i, j] > thresh else \"black\")\n",
    "\n",
    "\n",
    "    plt.tight_layout()\n",
    "    plt.ylabel('True label')\n",
    "    plt.xlabel('Predicted label\\naccuracy={:0.4f}; misclass={:0.4f}'.format(accuracy, misclass))\n",
    "    plt.show()"
   ]
  },
  {
   "cell_type": "code",
   "execution_count": 8,
   "metadata": {},
   "outputs": [],
   "source": [
    "data_values = df.values\n",
    "data_values = data_values.astype('float32')"
   ]
  },
  {
   "cell_type": "code",
   "execution_count": 9,
   "metadata": {},
   "outputs": [],
   "source": [
    "X, Y_R, Y_C, scaler, close_scaler  = create_dataset(data_values, look_back=10)"
   ]
  },
  {
   "cell_type": "code",
   "execution_count": 10,
   "metadata": {},
   "outputs": [],
   "source": [
    "X_train, X_val, y_train, y_val = train_test_split(X, Y_C,test_size = 0.2)"
   ]
  },
  {
   "cell_type": "code",
   "execution_count": 11,
   "metadata": {},
   "outputs": [
    {
     "data": {
      "text/plain": [
       "(10, 8)"
      ]
     },
     "execution_count": 11,
     "metadata": {},
     "output_type": "execute_result"
    }
   ],
   "source": [
    "X_train[1].shape"
   ]
  },
  {
   "cell_type": "code",
   "execution_count": 12,
   "metadata": {},
   "outputs": [],
   "source": [
    "from NeuralNet.Layers import *\n",
    "from NeuralNet.Neuralnet import *\n",
    "from NeuralNet.RNN import *\n",
    "from NeuralNet.Optimizers import *"
   ]
  },
  {
   "cell_type": "code",
   "execution_count": 13,
   "metadata": {},
   "outputs": [],
   "source": [
    "EPOCHS = 20\n",
    "optimizer = Adam(0.0001)\n",
    "loss_func = BinaryCrossEntropy()\n",
    "archs = [\n",
    "    Input(),\n",
    "    SimpleRNN(512, return_sequences=True),\n",
    "    Activation(activation=\"swish\"),\n",
    "    SimpleRNN(128),\n",
    "    Activation(activation=\"swish\"),\n",
    "    Dropout(keep_prob=0.35),\n",
    "    Dense(num_neurons=128, weight_init=\"glorot_normal\"),\n",
    "    Activation(activation=\"swish\"),\n",
    "    Dense(num_neurons=32, weight_init=\"glorot_normal\", use_bias=True),\n",
    "    Activation(activation=\"swish\"),\n",
    "    Dense(num_neurons=2, weight_init=\"glorot_normal\"),\n",
    "    Activation(activation=\"softmax\"),\n",
    "]"
   ]
  },
  {
   "cell_type": "code",
   "execution_count": 14,
   "metadata": {
    "tags": []
   },
   "outputs": [
    {
     "name": "stderr",
     "output_type": "stream",
     "text": [
      "Epoch 1 - Loss: 1.29176: 100%|██████████| 13/13 [00:02<00:00,  4.79it/s]\n"
     ]
    },
    {
     "name": "stdout",
     "output_type": "stream",
     "text": [
      "Loss at epoch 1: 1.29176 - Train accuracy: 0.47727 - Validation loss: 1.14777 - accuracy: 0.52525\n"
     ]
    },
    {
     "name": "stderr",
     "output_type": "stream",
     "text": [
      "Epoch 2 - Loss: 1.11741: 100%|██████████| 13/13 [00:02<00:00,  4.88it/s]\n"
     ]
    },
    {
     "name": "stdout",
     "output_type": "stream",
     "text": [
      "Loss at epoch 2: 1.11741 - Train accuracy: 0.46717 - Validation loss: 1.00951 - accuracy: 0.53535\n"
     ]
    },
    {
     "name": "stderr",
     "output_type": "stream",
     "text": [
      "Epoch 3 - Loss: 1.18799: 100%|██████████| 13/13 [00:02<00:00,  5.69it/s]\n"
     ]
    },
    {
     "name": "stdout",
     "output_type": "stream",
     "text": [
      "Loss at epoch 3: 1.18799 - Train accuracy: 0.50000 - Validation loss: 0.96156 - accuracy: 0.52525\n"
     ]
    },
    {
     "name": "stderr",
     "output_type": "stream",
     "text": [
      "Epoch 4 - Loss: 1.00749: 100%|██████████| 13/13 [00:02<00:00,  6.17it/s]\n"
     ]
    },
    {
     "name": "stdout",
     "output_type": "stream",
     "text": [
      "Loss at epoch 4: 1.00749 - Train accuracy: 0.48611 - Validation loss: 0.83446 - accuracy: 0.53030\n"
     ]
    },
    {
     "name": "stderr",
     "output_type": "stream",
     "text": [
      "Epoch 5 - Loss: 0.95702: 100%|██████████| 13/13 [00:02<00:00,  6.30it/s]\n"
     ]
    },
    {
     "name": "stdout",
     "output_type": "stream",
     "text": [
      "Loss at epoch 5: 0.95702 - Train accuracy: 0.46843 - Validation loss: 0.86093 - accuracy: 0.48485\n"
     ]
    },
    {
     "name": "stderr",
     "output_type": "stream",
     "text": [
      "Epoch 6 - Loss: 0.89984: 100%|██████████| 13/13 [00:02<00:00,  5.32it/s]\n"
     ]
    },
    {
     "name": "stdout",
     "output_type": "stream",
     "text": [
      "Loss at epoch 6: 0.89984 - Train accuracy: 0.47475 - Validation loss: 1.08326 - accuracy: 0.47475\n"
     ]
    },
    {
     "name": "stderr",
     "output_type": "stream",
     "text": [
      "Epoch 7 - Loss: 0.89305: 100%|██████████| 13/13 [00:02<00:00,  5.72it/s]\n"
     ]
    },
    {
     "name": "stdout",
     "output_type": "stream",
     "text": [
      "Loss at epoch 7: 0.89305 - Train accuracy: 0.47601 - Validation loss: 0.96979 - accuracy: 0.51515\n"
     ]
    },
    {
     "name": "stderr",
     "output_type": "stream",
     "text": [
      "Epoch 8 - Loss: 0.85295: 100%|██████████| 13/13 [00:02<00:00,  4.80it/s]\n"
     ]
    },
    {
     "name": "stdout",
     "output_type": "stream",
     "text": [
      "Loss at epoch 8: 0.85295 - Train accuracy: 0.50126 - Validation loss: 0.74695 - accuracy: 0.50505\n"
     ]
    },
    {
     "name": "stderr",
     "output_type": "stream",
     "text": [
      "Epoch 9 - Loss: 0.80953: 100%|██████████| 13/13 [00:02<00:00,  5.64it/s]\n"
     ]
    },
    {
     "name": "stdout",
     "output_type": "stream",
     "text": [
      "Loss at epoch 9: 0.80953 - Train accuracy: 0.48232 - Validation loss: 0.73432 - accuracy: 0.52525\n"
     ]
    },
    {
     "name": "stderr",
     "output_type": "stream",
     "text": [
      "Epoch 10 - Loss: 0.79693: 100%|██████████| 13/13 [00:01<00:00,  6.63it/s]\n"
     ]
    },
    {
     "name": "stdout",
     "output_type": "stream",
     "text": [
      "Loss at epoch 10: 0.79693 - Train accuracy: 0.49369 - Validation loss: 0.81956 - accuracy: 0.51515\n"
     ]
    },
    {
     "name": "stderr",
     "output_type": "stream",
     "text": [
      "Epoch 11 - Loss: 0.79788: 100%|██████████| 13/13 [00:02<00:00,  5.63it/s]\n"
     ]
    },
    {
     "name": "stdout",
     "output_type": "stream",
     "text": [
      "Loss at epoch 11: 0.79788 - Train accuracy: 0.50126 - Validation loss: 0.81513 - accuracy: 0.51515\n"
     ]
    },
    {
     "name": "stderr",
     "output_type": "stream",
     "text": [
      "Epoch 12 - Loss: 0.75764: 100%|██████████| 13/13 [00:02<00:00,  6.29it/s]\n"
     ]
    },
    {
     "name": "stdout",
     "output_type": "stream",
     "text": [
      "Loss at epoch 12: 0.75764 - Train accuracy: 0.46465 - Validation loss: 0.80760 - accuracy: 0.53030\n"
     ]
    },
    {
     "name": "stderr",
     "output_type": "stream",
     "text": [
      "Epoch 13 - Loss: 0.78304: 100%|██████████| 13/13 [00:02<00:00,  6.44it/s]\n"
     ]
    },
    {
     "name": "stdout",
     "output_type": "stream",
     "text": [
      "Loss at epoch 13: 0.78304 - Train accuracy: 0.46843 - Validation loss: 0.74444 - accuracy: 0.46970\n"
     ]
    },
    {
     "name": "stderr",
     "output_type": "stream",
     "text": [
      "Epoch 14 - Loss: 0.74586: 100%|██████████| 13/13 [00:02<00:00,  6.33it/s]\n"
     ]
    },
    {
     "name": "stdout",
     "output_type": "stream",
     "text": [
      "Loss at epoch 14: 0.74586 - Train accuracy: 0.49495 - Validation loss: 0.75818 - accuracy: 0.51010\n"
     ]
    },
    {
     "name": "stderr",
     "output_type": "stream",
     "text": [
      "Epoch 15 - Loss: 0.74481: 100%|██████████| 13/13 [00:02<00:00,  5.49it/s]\n"
     ]
    },
    {
     "name": "stdout",
     "output_type": "stream",
     "text": [
      "Loss at epoch 15: 0.74481 - Train accuracy: 0.47980 - Validation loss: 0.71769 - accuracy: 0.48990\n"
     ]
    },
    {
     "name": "stderr",
     "output_type": "stream",
     "text": [
      "Epoch 16 - Loss: 0.75365: 100%|██████████| 13/13 [00:01<00:00,  6.59it/s]\n"
     ]
    },
    {
     "name": "stdout",
     "output_type": "stream",
     "text": [
      "Loss at epoch 16: 0.75365 - Train accuracy: 0.47854 - Validation loss: 0.80301 - accuracy: 0.54040\n"
     ]
    },
    {
     "name": "stderr",
     "output_type": "stream",
     "text": [
      "Epoch 17 - Loss: 0.75422: 100%|██████████| 13/13 [00:02<00:00,  6.21it/s]\n"
     ]
    },
    {
     "name": "stdout",
     "output_type": "stream",
     "text": [
      "Loss at epoch 17: 0.75422 - Train accuracy: 0.50631 - Validation loss: 0.69148 - accuracy: 0.50505\n"
     ]
    },
    {
     "name": "stderr",
     "output_type": "stream",
     "text": [
      "Epoch 18 - Loss: 0.72789: 100%|██████████| 13/13 [00:02<00:00,  5.92it/s]\n"
     ]
    },
    {
     "name": "stdout",
     "output_type": "stream",
     "text": [
      "Loss at epoch 18: 0.72789 - Train accuracy: 0.50631 - Validation loss: 0.78976 - accuracy: 0.53030\n"
     ]
    },
    {
     "name": "stderr",
     "output_type": "stream",
     "text": [
      "Epoch 19 - Loss: 0.70649: 100%|██████████| 13/13 [00:02<00:00,  6.25it/s]\n"
     ]
    },
    {
     "name": "stdout",
     "output_type": "stream",
     "text": [
      "Loss at epoch 19: 0.70649 - Train accuracy: 0.48611 - Validation loss: 0.68808 - accuracy: 0.50505\n"
     ]
    },
    {
     "name": "stderr",
     "output_type": "stream",
     "text": [
      "Epoch 20 - Loss: 0.72532: 100%|██████████| 13/13 [00:02<00:00,  6.02it/s]\n"
     ]
    },
    {
     "name": "stdout",
     "output_type": "stream",
     "text": [
      "Loss at epoch 20: 0.72532 - Train accuracy: 0.46970 - Validation loss: 0.75689 - accuracy: 0.50000\n"
     ]
    }
   ],
   "source": [
    "val_set = (X_val, y_val)\n",
    "\n",
    "model = Model(optimizer=optimizer, layers=archs, loss_func=loss_func)\n",
    "train_losses, val_losses, train_accs, val_accs = model.fit(X_train, y_train, val_set, batch_size=64, epochs=EPOCHS)\n",
    "\n",
    "import pickle\n",
    "with open(\"isods_simple_2layers_rnn.pkl\", \"wb\") as f:\n",
    "    pickle.dump(model, f, pickle.HIGHEST_PROTOCOL)"
   ]
  },
  {
   "cell_type": "code",
   "execution_count": 15,
   "metadata": {},
   "outputs": [
    {
     "data": {
      "image/png": "[encoded data removed]",
      "text/plain": [
       "<Figure size 432x288 with 1 Axes>"
      ]
     },
     "metadata": {
      "needs_background": "light"
     },
     "output_type": "display_data"
    }
   ],
   "source": [
    "plt.plot(range(EPOCHS), train_losses, label='training')\n",
    "plt.plot(range(EPOCHS), val_losses, label='validation', color='orange')\n",
    "plt.ylabel('Cost')\n",
    "plt.xlabel('Epochs')\n",
    "plt.show()"
   ]
  },
  {
   "cell_type": "code",
   "execution_count": 16,
   "metadata": {},
   "outputs": [
    {
     "data": {
      "image/png": "[encoded data removed]",
      "text/plain": [
       "<Figure size 432x288 with 1 Axes>"
      ]
     },
     "metadata": {
      "needs_background": "light"
     },
     "output_type": "display_data"
    }
   ],
   "source": [
    "plt.plot(range(EPOCHS), train_accs, label='training')\n",
    "plt.plot(range(EPOCHS), val_accs, label='validation', color='orange')\n",
    "plt.ylabel('Accuracy')\n",
    "plt.xlabel('Epochs')\n",
    "plt.show()"
   ]
  },
  {
   "cell_type": "code",
   "execution_count": 17,
   "metadata": {
    "tags": []
   },
   "outputs": [
    {
     "name": "stdout",
     "output_type": "stream",
     "text": [
      "Accuracy: 0.5\n"
     ]
    }
   ],
   "source": [
    "pred = model.predict(X_val)\n",
    "print(\"Accuracy:\", len(pred[y_val[:,1] == pred]) / len(pred))\n",
    "from sklearn.metrics import confusion_matrix\n",
    "array = confusion_matrix(y_val[:,1], pred)"
   ]
  },
  {
   "cell_type": "code",
   "execution_count": 18,
   "metadata": {},
   "outputs": [
    {
     "data": {
      "image/png": "[encoded data removed]",
      "text/plain": [
       "<Figure size 576x432 with 2 Axes>"
      ]
     },
     "metadata": {
      "needs_background": "light"
     },
     "output_type": "display_data"
    }
   ],
   "source": [
    "plot_confusion_matrix(cm           = array,\n",
    "                      normalize    = False,\n",
    "                      target_names = ['0', '1'],\n",
    "                      title        = \"Confusion Matrix\")"
   ]
  },
  {
   "cell_type": "code",
   "execution_count": null,
   "metadata": {},
   "outputs": [],
   "source": []
  }
 ],
 "metadata": {
  "hide_input": false,
  "kernelspec": {
   "display_name": "Python 3.9.7 ('base')",
   "language": "python",
   "name": "python3"
  },
  "language_info": {
   "codemirror_mode": {
    "name": "ipython",
    "version": 3
   },
   "file_extension": ".py",
   "mimetype": "text/x-python",
   "name": "python",
   "nbconvert_exporter": "python",
   "pygments_lexer": "ipython3",
   "version": "3.9.7"
  },
  "toc": {
   "base_numbering": 1,
   "nav_menu": {},
   "number_sections": true,
   "sideBar": true,
   "skip_h1_title": false,
   "title_cell": "Table of Contents",
   "title_sidebar": "Contents",
   "toc_cell": false,
   "toc_position": {},
   "toc_section_display": true,
   "toc_window_display": false
  },
  "vscode": {
   "interpreter": {
    "hash": "588c3c65383b76165a6314fd44887f12126f262e1694c1f7078238351290b054"
   }
  }
 },
 "nbformat": 4,
 "nbformat_minor": 2
}
