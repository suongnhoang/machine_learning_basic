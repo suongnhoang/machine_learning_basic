{
 "cells": [
  {
   "cell_type": "markdown",
   "metadata": {},
   "source": [
    "## <font color='darkblue'>Thực hành Huấn luyện mạng trí tuệ nhân tạo:\n",
    "\n",
    "Trong bài này, chúng ta sẽ thực hành: \n",
    "- (i) tiền xử lý dữ liệu\n",
    "- (ii) huấn luyện Neural Net\n",
    "\n",
    "Bộ dữ liệu được sử dụng là bộ [Kaggle Titanic](https://www.kaggle.com/c/titanic); trong đó, đầu vào là thông tin của hành khách trên tàu Titanic (bạn xem chi tiết trong file `description.txt` đính kèm), đầu ra là một trong hai lớp sống/chết (1 | 0). Mình có đính kèm các file dữ liệu: `train.csv` - tập huấn luyện, `val.csv` - tập validation, `test.csv` - tập kiểm tra (chỉ có đầu vào); thật ra, Kaggle chỉ cung cấp hai file là `train.csv` và `test.csv`, mình đã tách file `train.csv` của Kaggle ra hai file là `train.csv` (80%) và `val.csv` (20%).\n",
    "\n",
    "### <font color='blue'>Import</font>"
   ]
  },
  {
   "cell_type": "code",
   "execution_count": 1,
   "metadata": {},
   "outputs": [],
   "source": [
    "%matplotlib inline\n",
    "import pandas as pd\n",
    "import matplotlib.pyplot as plt\n",
    "from sklearn.preprocessing import OneHotEncoder\n",
    "from sklearn.metrics import confusion_matrix\n",
    "from tqdm.notebook import tqdm\n",
    "#import cPickle\n",
    "# You can also import other things ..."
   ]
  },
  {
   "cell_type": "markdown",
   "metadata": {},
   "source": [
    "### <font color='blue'>Đọc dữ liệu tập huấn luyện và tập validation vào data frame"
   ]
  },
  {
   "cell_type": "code",
   "execution_count": 2,
   "metadata": {
    "tags": []
   },
   "outputs": [
    {
     "name": "stdout",
     "output_type": "stream",
     "text": [
      "<class 'pandas.core.frame.DataFrame'>\n",
      "Int64Index: 712 entries, 496 to 153\n",
      "Data columns (total 11 columns):\n",
      " #   Column    Non-Null Count  Dtype  \n",
      "---  ------    --------------  -----  \n",
      " 0   Survived  712 non-null    int64  \n",
      " 1   Pclass    712 non-null    int64  \n",
      " 2   Name      712 non-null    object \n",
      " 3   Sex       712 non-null    object \n",
      " 4   Age       574 non-null    float64\n",
      " 5   SibSp     712 non-null    int64  \n",
      " 6   Parch     712 non-null    int64  \n",
      " 7   Ticket    712 non-null    object \n",
      " 8   Fare      712 non-null    float64\n",
      " 9   Cabin     160 non-null    object \n",
      " 10  Embarked  711 non-null    object \n",
      "dtypes: float64(2), int64(4), object(5)\n",
      "memory usage: 66.8+ KB\n"
     ]
    },
    {
     "data": {
      "text/html": [
       "<div>\n",
       "<style scoped>\n",
       "    .dataframe tbody tr th:only-of-type {\n",
       "        vertical-align: middle;\n",
       "    }\n",
       "\n",
       "    .dataframe tbody tr th {\n",
       "        vertical-align: top;\n",
       "    }\n",
       "\n",
       "    .dataframe thead th {\n",
       "        text-align: right;\n",
       "    }\n",
       "</style>\n",
       "<table border=\"1\" class=\"dataframe\">\n",
       "  <thead>\n",
       "    <tr style=\"text-align: right;\">\n",
       "      <th></th>\n",
       "      <th>Survived</th>\n",
       "      <th>Pclass</th>\n",
       "      <th>Name</th>\n",
       "      <th>Sex</th>\n",
       "      <th>Age</th>\n",
       "      <th>SibSp</th>\n",
       "      <th>Parch</th>\n",
       "      <th>Ticket</th>\n",
       "      <th>Fare</th>\n",
       "      <th>Cabin</th>\n",
       "      <th>Embarked</th>\n",
       "    </tr>\n",
       "    <tr>\n",
       "      <th>PassengerId</th>\n",
       "      <th></th>\n",
       "      <th></th>\n",
       "      <th></th>\n",
       "      <th></th>\n",
       "      <th></th>\n",
       "      <th></th>\n",
       "      <th></th>\n",
       "      <th></th>\n",
       "      <th></th>\n",
       "      <th></th>\n",
       "      <th></th>\n",
       "    </tr>\n",
       "  </thead>\n",
       "  <tbody>\n",
       "    <tr>\n",
       "      <th>496</th>\n",
       "      <td>0</td>\n",
       "      <td>3</td>\n",
       "      <td>Yousseff, Mr. Gerious</td>\n",
       "      <td>male</td>\n",
       "      <td>NaN</td>\n",
       "      <td>0</td>\n",
       "      <td>0</td>\n",
       "      <td>2627</td>\n",
       "      <td>14.4583</td>\n",
       "      <td>NaN</td>\n",
       "      <td>C</td>\n",
       "    </tr>\n",
       "    <tr>\n",
       "      <th>649</th>\n",
       "      <td>0</td>\n",
       "      <td>3</td>\n",
       "      <td>Willey, Mr. Edward</td>\n",
       "      <td>male</td>\n",
       "      <td>NaN</td>\n",
       "      <td>0</td>\n",
       "      <td>0</td>\n",
       "      <td>S.O./P.P. 751</td>\n",
       "      <td>7.5500</td>\n",
       "      <td>NaN</td>\n",
       "      <td>S</td>\n",
       "    </tr>\n",
       "    <tr>\n",
       "      <th>279</th>\n",
       "      <td>0</td>\n",
       "      <td>3</td>\n",
       "      <td>Rice, Master. Eric</td>\n",
       "      <td>male</td>\n",
       "      <td>7.0</td>\n",
       "      <td>4</td>\n",
       "      <td>1</td>\n",
       "      <td>382652</td>\n",
       "      <td>29.1250</td>\n",
       "      <td>NaN</td>\n",
       "      <td>Q</td>\n",
       "    </tr>\n",
       "    <tr>\n",
       "      <th>32</th>\n",
       "      <td>1</td>\n",
       "      <td>1</td>\n",
       "      <td>Spencer, Mrs. William Augustus (Marie Eugenie)</td>\n",
       "      <td>female</td>\n",
       "      <td>NaN</td>\n",
       "      <td>1</td>\n",
       "      <td>0</td>\n",
       "      <td>PC 17569</td>\n",
       "      <td>146.5208</td>\n",
       "      <td>B78</td>\n",
       "      <td>C</td>\n",
       "    </tr>\n",
       "    <tr>\n",
       "      <th>256</th>\n",
       "      <td>1</td>\n",
       "      <td>3</td>\n",
       "      <td>Touma, Mrs. Darwis (Hanne Youssef Razi)</td>\n",
       "      <td>female</td>\n",
       "      <td>29.0</td>\n",
       "      <td>0</td>\n",
       "      <td>2</td>\n",
       "      <td>2650</td>\n",
       "      <td>15.2458</td>\n",
       "      <td>NaN</td>\n",
       "      <td>C</td>\n",
       "    </tr>\n",
       "  </tbody>\n",
       "</table>\n",
       "</div>"
      ],
      "text/plain": [
       "             Survived  Pclass                                            Name  \\\n",
       "PassengerId                                                                     \n",
       "496                 0       3                           Yousseff, Mr. Gerious   \n",
       "649                 0       3                              Willey, Mr. Edward   \n",
       "279                 0       3                              Rice, Master. Eric   \n",
       "32                  1       1  Spencer, Mrs. William Augustus (Marie Eugenie)   \n",
       "256                 1       3         Touma, Mrs. Darwis (Hanne Youssef Razi)   \n",
       "\n",
       "                Sex   Age  SibSp  Parch         Ticket      Fare Cabin  \\\n",
       "PassengerId                                                              \n",
       "496            male   NaN      0      0           2627   14.4583   NaN   \n",
       "649            male   NaN      0      0  S.O./P.P. 751    7.5500   NaN   \n",
       "279            male   7.0      4      1         382652   29.1250   NaN   \n",
       "32           female   NaN      1      0       PC 17569  146.5208   B78   \n",
       "256          female  29.0      0      2           2650   15.2458   NaN   \n",
       "\n",
       "            Embarked  \n",
       "PassengerId           \n",
       "496                C  \n",
       "649                S  \n",
       "279                Q  \n",
       "32                 C  \n",
       "256                C  "
      ]
     },
     "execution_count": 2,
     "metadata": {},
     "output_type": "execute_result"
    }
   ],
   "source": [
    "train_df = pd.read_csv('./sample_datas/titanic/train.csv', index_col=0)\n",
    "train_df.info()\n",
    "train_df.head()"
   ]
  },
  {
   "cell_type": "code",
   "execution_count": 3,
   "metadata": {
    "scrolled": false,
    "tags": []
   },
   "outputs": [
    {
     "name": "stdout",
     "output_type": "stream",
     "text": [
      "<class 'pandas.core.frame.DataFrame'>\n",
      "Int64Index: 179 entries, 529 to 685\n",
      "Data columns (total 11 columns):\n",
      " #   Column    Non-Null Count  Dtype  \n",
      "---  ------    --------------  -----  \n",
      " 0   Survived  179 non-null    int64  \n",
      " 1   Pclass    179 non-null    int64  \n",
      " 2   Name      179 non-null    object \n",
      " 3   Sex       179 non-null    object \n",
      " 4   Age       140 non-null    float64\n",
      " 5   SibSp     179 non-null    int64  \n",
      " 6   Parch     179 non-null    int64  \n",
      " 7   Ticket    179 non-null    object \n",
      " 8   Fare      179 non-null    float64\n",
      " 9   Cabin     44 non-null     object \n",
      " 10  Embarked  178 non-null    object \n",
      "dtypes: float64(2), int64(4), object(5)\n",
      "memory usage: 16.8+ KB\n"
     ]
    },
    {
     "data": {
      "text/html": [
       "<div>\n",
       "<style scoped>\n",
       "    .dataframe tbody tr th:only-of-type {\n",
       "        vertical-align: middle;\n",
       "    }\n",
       "\n",
       "    .dataframe tbody tr th {\n",
       "        vertical-align: top;\n",
       "    }\n",
       "\n",
       "    .dataframe thead th {\n",
       "        text-align: right;\n",
       "    }\n",
       "</style>\n",
       "<table border=\"1\" class=\"dataframe\">\n",
       "  <thead>\n",
       "    <tr style=\"text-align: right;\">\n",
       "      <th></th>\n",
       "      <th>Survived</th>\n",
       "      <th>Pclass</th>\n",
       "      <th>Name</th>\n",
       "      <th>Sex</th>\n",
       "      <th>Age</th>\n",
       "      <th>SibSp</th>\n",
       "      <th>Parch</th>\n",
       "      <th>Ticket</th>\n",
       "      <th>Fare</th>\n",
       "      <th>Cabin</th>\n",
       "      <th>Embarked</th>\n",
       "    </tr>\n",
       "    <tr>\n",
       "      <th>PassengerId</th>\n",
       "      <th></th>\n",
       "      <th></th>\n",
       "      <th></th>\n",
       "      <th></th>\n",
       "      <th></th>\n",
       "      <th></th>\n",
       "      <th></th>\n",
       "      <th></th>\n",
       "      <th></th>\n",
       "      <th></th>\n",
       "      <th></th>\n",
       "    </tr>\n",
       "  </thead>\n",
       "  <tbody>\n",
       "    <tr>\n",
       "      <th>529</th>\n",
       "      <td>0</td>\n",
       "      <td>3</td>\n",
       "      <td>Salonen, Mr. Johan Werner</td>\n",
       "      <td>male</td>\n",
       "      <td>39.0</td>\n",
       "      <td>0</td>\n",
       "      <td>0</td>\n",
       "      <td>3101296</td>\n",
       "      <td>7.9250</td>\n",
       "      <td>NaN</td>\n",
       "      <td>S</td>\n",
       "    </tr>\n",
       "    <tr>\n",
       "      <th>411</th>\n",
       "      <td>0</td>\n",
       "      <td>3</td>\n",
       "      <td>Sdycoff, Mr. Todor</td>\n",
       "      <td>male</td>\n",
       "      <td>NaN</td>\n",
       "      <td>0</td>\n",
       "      <td>0</td>\n",
       "      <td>349222</td>\n",
       "      <td>7.8958</td>\n",
       "      <td>NaN</td>\n",
       "      <td>S</td>\n",
       "    </tr>\n",
       "    <tr>\n",
       "      <th>449</th>\n",
       "      <td>1</td>\n",
       "      <td>3</td>\n",
       "      <td>Baclini, Miss. Marie Catherine</td>\n",
       "      <td>female</td>\n",
       "      <td>5.0</td>\n",
       "      <td>2</td>\n",
       "      <td>1</td>\n",
       "      <td>2666</td>\n",
       "      <td>19.2583</td>\n",
       "      <td>NaN</td>\n",
       "      <td>C</td>\n",
       "    </tr>\n",
       "    <tr>\n",
       "      <th>634</th>\n",
       "      <td>0</td>\n",
       "      <td>1</td>\n",
       "      <td>Parr, Mr. William Henry Marsh</td>\n",
       "      <td>male</td>\n",
       "      <td>NaN</td>\n",
       "      <td>0</td>\n",
       "      <td>0</td>\n",
       "      <td>112052</td>\n",
       "      <td>0.0000</td>\n",
       "      <td>NaN</td>\n",
       "      <td>S</td>\n",
       "    </tr>\n",
       "    <tr>\n",
       "      <th>204</th>\n",
       "      <td>0</td>\n",
       "      <td>3</td>\n",
       "      <td>Youseff, Mr. Gerious</td>\n",
       "      <td>male</td>\n",
       "      <td>45.5</td>\n",
       "      <td>0</td>\n",
       "      <td>0</td>\n",
       "      <td>2628</td>\n",
       "      <td>7.2250</td>\n",
       "      <td>NaN</td>\n",
       "      <td>C</td>\n",
       "    </tr>\n",
       "    <tr>\n",
       "      <th>792</th>\n",
       "      <td>0</td>\n",
       "      <td>2</td>\n",
       "      <td>Gaskell, Mr. Alfred</td>\n",
       "      <td>male</td>\n",
       "      <td>16.0</td>\n",
       "      <td>0</td>\n",
       "      <td>0</td>\n",
       "      <td>239865</td>\n",
       "      <td>26.0000</td>\n",
       "      <td>NaN</td>\n",
       "      <td>S</td>\n",
       "    </tr>\n",
       "    <tr>\n",
       "      <th>308</th>\n",
       "      <td>1</td>\n",
       "      <td>1</td>\n",
       "      <td>Penasco y Castellana, Mrs. Victor de Satode (M...</td>\n",
       "      <td>female</td>\n",
       "      <td>17.0</td>\n",
       "      <td>1</td>\n",
       "      <td>0</td>\n",
       "      <td>PC 17758</td>\n",
       "      <td>108.9000</td>\n",
       "      <td>C65</td>\n",
       "      <td>C</td>\n",
       "    </tr>\n",
       "    <tr>\n",
       "      <th>261</th>\n",
       "      <td>0</td>\n",
       "      <td>3</td>\n",
       "      <td>Smith, Mr. Thomas</td>\n",
       "      <td>male</td>\n",
       "      <td>NaN</td>\n",
       "      <td>0</td>\n",
       "      <td>0</td>\n",
       "      <td>384461</td>\n",
       "      <td>7.7500</td>\n",
       "      <td>NaN</td>\n",
       "      <td>Q</td>\n",
       "    </tr>\n",
       "    <tr>\n",
       "      <th>315</th>\n",
       "      <td>0</td>\n",
       "      <td>2</td>\n",
       "      <td>Hart, Mr. Benjamin</td>\n",
       "      <td>male</td>\n",
       "      <td>43.0</td>\n",
       "      <td>1</td>\n",
       "      <td>1</td>\n",
       "      <td>F.C.C. 13529</td>\n",
       "      <td>26.2500</td>\n",
       "      <td>NaN</td>\n",
       "      <td>S</td>\n",
       "    </tr>\n",
       "    <tr>\n",
       "      <th>640</th>\n",
       "      <td>0</td>\n",
       "      <td>3</td>\n",
       "      <td>Thorneycroft, Mr. Percival</td>\n",
       "      <td>male</td>\n",
       "      <td>NaN</td>\n",
       "      <td>1</td>\n",
       "      <td>0</td>\n",
       "      <td>376564</td>\n",
       "      <td>16.1000</td>\n",
       "      <td>NaN</td>\n",
       "      <td>S</td>\n",
       "    </tr>\n",
       "  </tbody>\n",
       "</table>\n",
       "</div>"
      ],
      "text/plain": [
       "             Survived  Pclass  \\\n",
       "PassengerId                     \n",
       "529                 0       3   \n",
       "411                 0       3   \n",
       "449                 1       3   \n",
       "634                 0       1   \n",
       "204                 0       3   \n",
       "792                 0       2   \n",
       "308                 1       1   \n",
       "261                 0       3   \n",
       "315                 0       2   \n",
       "640                 0       3   \n",
       "\n",
       "                                                          Name     Sex   Age  \\\n",
       "PassengerId                                                                    \n",
       "529                                  Salonen, Mr. Johan Werner    male  39.0   \n",
       "411                                         Sdycoff, Mr. Todor    male   NaN   \n",
       "449                             Baclini, Miss. Marie Catherine  female   5.0   \n",
       "634                              Parr, Mr. William Henry Marsh    male   NaN   \n",
       "204                                       Youseff, Mr. Gerious    male  45.5   \n",
       "792                                        Gaskell, Mr. Alfred    male  16.0   \n",
       "308          Penasco y Castellana, Mrs. Victor de Satode (M...  female  17.0   \n",
       "261                                          Smith, Mr. Thomas    male   NaN   \n",
       "315                                         Hart, Mr. Benjamin    male  43.0   \n",
       "640                                 Thorneycroft, Mr. Percival    male   NaN   \n",
       "\n",
       "             SibSp  Parch        Ticket      Fare Cabin Embarked  \n",
       "PassengerId                                                       \n",
       "529              0      0       3101296    7.9250   NaN        S  \n",
       "411              0      0        349222    7.8958   NaN        S  \n",
       "449              2      1          2666   19.2583   NaN        C  \n",
       "634              0      0        112052    0.0000   NaN        S  \n",
       "204              0      0          2628    7.2250   NaN        C  \n",
       "792              0      0        239865   26.0000   NaN        S  \n",
       "308              1      0      PC 17758  108.9000   C65        C  \n",
       "261              0      0        384461    7.7500   NaN        Q  \n",
       "315              1      1  F.C.C. 13529   26.2500   NaN        S  \n",
       "640              1      0        376564   16.1000   NaN        S  "
      ]
     },
     "execution_count": 3,
     "metadata": {},
     "output_type": "execute_result"
    }
   ],
   "source": [
    "val_df = pd.read_csv('./sample_datas/titanic/val.csv', index_col=0)\n",
    "val_df.info()\n",
    "val_df.sample(10)"
   ]
  },
  {
   "cell_type": "markdown",
   "metadata": {},
   "source": [
    "### <font color='blue'>Tiền xử lý"
   ]
  },
  {
   "cell_type": "markdown",
   "metadata": {},
   "source": [
    "#### **Tiền xử lý tập huấn luyện**"
   ]
  },
  {
   "cell_type": "code",
   "execution_count": 4,
   "metadata": {},
   "outputs": [],
   "source": [
    "train_input_df = train_df.iloc[:, 1:]\n",
    "train_output_df = train_df.Survived"
   ]
  },
  {
   "cell_type": "markdown",
   "metadata": {},
   "source": [
    "##### Xây dựng `train_X` từ `train_input_df`\n",
    "\n",
    "(`train_X` là mảng numpy chứa các véc-tơ đầu vào mà có thể đưa trực tiếp vào mô hình học như ở các bài tập trước.)\n",
    "\n",
    "Đầu tiên, ta sẽ tiến hành: \n",
    "- Bỏ cột `Cabin` vì cột này có nhiều giá thiếu (552/712).\n",
    "- Bỏ cột `Ticket` vì cột này có giá trị không phải dạng số, sẽ cần phải tốn sức để chuyển sang dạng số , vì nó có quá nhiều định dạng và rất cần rất nhiều công sức và thời gian để có thể hiểu được các kí hiệu trên đó có nghĩa gì.\n",
    "\n",
    "**Lưu ý** :\n",
    "\n",
    "khi bỏ 2 cột `Cabin` và `Ticket` đi thì rất có thể sẽ làm mất thông tin để dự đoán `sống`|`chết`. Vì có khả năng đây là dữ liệu quan trọng liên quan đến vị trí nghỉ ngơi cụ thể trong từng khoang.\n"
   ]
  },
  {
   "cell_type": "code",
   "execution_count": 5,
   "metadata": {
    "scrolled": true,
    "tags": []
   },
   "outputs": [
    {
     "name": "stdout",
     "output_type": "stream",
     "text": [
      "<class 'pandas.core.frame.DataFrame'>\n",
      "Int64Index: 712 entries, 496 to 153\n",
      "Data columns (total 8 columns):\n",
      " #   Column    Non-Null Count  Dtype  \n",
      "---  ------    --------------  -----  \n",
      " 0   Pclass    712 non-null    int64  \n",
      " 1   Name      712 non-null    object \n",
      " 2   Sex       712 non-null    object \n",
      " 3   Age       574 non-null    float64\n",
      " 4   SibSp     712 non-null    int64  \n",
      " 5   Parch     712 non-null    int64  \n",
      " 6   Fare      712 non-null    float64\n",
      " 7   Embarked  711 non-null    object \n",
      "dtypes: float64(2), int64(3), object(3)\n",
      "memory usage: 50.1+ KB\n"
     ]
    }
   ],
   "source": [
    "dropped_cols = ['Ticket', 'Cabin']\n",
    "train_input_df.drop(dropped_cols, axis=1, inplace=True)\n",
    "train_input_df.info()"
   ]
  },
  {
   "cell_type": "markdown",
   "metadata": {},
   "source": [
    "Kế đến, ta sẽ xử lý các giá trị thiếu ở cột `Age` và cột `Embarked`. Ở đây, ta xử lý đơn giản là điền giá trị mean (giá trị trung bình) vào các giá trị thiếu ở cột `Age`, và điền giá trị mode (giá trị xuất hiện nhiều nhất) vào các giá trị thiếu ở cột `Embarked`. *Lưu ý là, khi điền các giá trị thiếu ở tập validation/test, ta sẽ sử dụng các giá trị mean/mode được tính từ tập huấn luyện*. Trong thực tế,  ta thường sẽ không biết ở thời điểm test biến đầu vào nào sẽ thiếu giá trị; do đó, ta có thể làm một cách tổng quát như sau: với biến đầu vào có giá trị số, ta sẽ điền giá trị mean; ngược lại, điền giá trị mode. Dưới đây, hàm `compute_mean_mode` sẽ tính từ tập huấn luyện giá trị mean/mode của *tất cả* các biến đầu vào; hàm `fill_missing_values` sẽ dùng các giá trị mean/mode này để điền giá trị thiếu cho một tập dữ liệu nào đó (tập huấn luyện/validation/kiểm tra)."
   ]
  },
  {
   "cell_type": "code",
   "execution_count": 6,
   "metadata": {},
   "outputs": [
    {
     "data": {
      "text/plain": [
       "712"
      ]
     },
     "execution_count": 6,
     "metadata": {},
     "output_type": "execute_result"
    }
   ],
   "source": [
    "names = train_input_df[\"Name\"].to_list()\n",
    "len(names)"
   ]
  },
  {
   "cell_type": "code",
   "execution_count": 7,
   "metadata": {},
   "outputs": [
    {
     "data": {
      "text/plain": [
       "[' Mr',\n",
       " ' Miss',\n",
       " ' Master',\n",
       " ' Dr',\n",
       " ' the Countess',\n",
       " ' Capt',\n",
       " ' Jonkheer',\n",
       " ' Col',\n",
       " ' Don',\n",
       " ' Major',\n",
       " ' Mlle',\n",
       " ' Mme',\n",
       " ' Rev',\n",
       " ' Ms',\n",
       " ' Mrs',\n",
       " ' Lady']"
      ]
     },
     "execution_count": 7,
     "metadata": {},
     "output_type": "execute_result"
    }
   ],
   "source": [
    "apellation = set([name.split(',')[1].split('.')[0] for name in names])\n",
    "apellation = list(apellation)\n",
    "apellation"
   ]
  },
  {
   "cell_type": "code",
   "execution_count": 8,
   "metadata": {},
   "outputs": [],
   "source": [
    "def preprocessing_Name(input_df):\n",
    "    index = input_df.index.values.tolist()\n",
    "    vector = []\n",
    "    for key in apellation:\n",
    "        tmp = list([])\n",
    "        for i in index:\n",
    "            apell = input_df.loc[i][\"Name\"].split(',')[1].split('.')[0]\n",
    "            if(apell == key):\n",
    "                tmp.append(1.0)\n",
    "            else:\n",
    "                tmp.append(0.0)\n",
    "        vector.append(tmp)\n",
    "        k = 6\n",
    "    for i in range(len(vector)):\n",
    "        input_df.insert(k+i, apellation[i], vector[i], allow_duplicates = True)\n",
    "    input_df.drop('Name', axis=1, inplace=True)\n",
    "    return input_df"
   ]
  },
  {
   "cell_type": "code",
   "execution_count": 9,
   "metadata": {},
   "outputs": [],
   "source": [
    "def compute_mean_mode(train_input_df):\n",
    "    '''\n",
    "    Computes means for numeric input variables and modes for non-numeric ones.\n",
    "    \n",
    "    Parameters\n",
    "    ----------\n",
    "    train_input_df : data frame\n",
    "        The data frame containing training inputs.\n",
    "    \n",
    "    Returns\n",
    "    -------\n",
    "    mean_mode_dict : dictionary, len = # input variables (# columns) of train_input_df\n",
    "        mean_mode_dict[<column_name>] = mean/mode of this column.\n",
    "    '''\n",
    "    dic = {}\n",
    "    for column in train_input_df:\n",
    "        num = 0\n",
    "        for i in range(7000):\n",
    "            try:\n",
    "                a = train_input_df.loc[i][column]\n",
    "                num = i\n",
    "                break\n",
    "            except:\n",
    "                next\n",
    "        if (isinstance(train_input_df.loc[num][column], str)):\n",
    "            if(len(train_input_df[column].mode()) > 0):\n",
    "                dic[column] = str(train_input_df[column].mode()[0])\n",
    "            else:\n",
    "                dic[column] = ''\n",
    "        else:\n",
    "            dic[column] = train_input_df[column].mean()\n",
    "    return dic"
   ]
  },
  {
   "cell_type": "code",
   "execution_count": 10,
   "metadata": {},
   "outputs": [
    {
     "data": {
      "text/plain": [
       "{'Pclass': 2.3230337078651684,\n",
       " 'Name': 'Abbott, Mr. Rossmore Edward',\n",
       " 'Sex': 'male',\n",
       " 'Age': 29.488815331010457,\n",
       " 'SibSp': 0.5140449438202247,\n",
       " 'Parch': 0.37359550561797755,\n",
       " 'Fare': 32.18301095505618,\n",
       " 'Embarked': 'S'}"
      ]
     },
     "execution_count": 10,
     "metadata": {},
     "output_type": "execute_result"
    }
   ],
   "source": [
    "mean_mode_dict = compute_mean_mode(train_input_df)\n",
    "mean_mode_dict"
   ]
  },
  {
   "cell_type": "code",
   "execution_count": 11,
   "metadata": {},
   "outputs": [],
   "source": [
    "def fill_missing_values(input_df, mean_mode_dict):\n",
    "    '''\n",
    "    Fills missing values for ALL columns of `input_df` using `mean_mode_dict`.\n",
    "    \n",
    "    Parameters\n",
    "    ----------\n",
    "    input_df : data frame\n",
    "        The data frame containing inputs.\n",
    "    mean_mode_dict : dictionary\n",
    "        mean_mode_dict[<column_name>] = mean/mode of this column (estimated from the training set).\n",
    "    \n",
    "    Returns\n",
    "    -------\n",
    "    filled_input_df : data frame\n",
    "        The data frame containing inputs after filling missing values.\n",
    "    '''\n",
    "    for column in input_df:\n",
    "        df = input_df[pd.isnull(input_df).any(axis=1)]\n",
    "        index = df.index.to_numpy()\n",
    "        for i in index:\n",
    "            if(pd.isnull(input_df.loc[i, column])):\n",
    "                input_df.loc[i, column] = mean_mode_dict[column]\n",
    "    return input_df"
   ]
  },
  {
   "cell_type": "code",
   "execution_count": 12,
   "metadata": {
    "tags": []
   },
   "outputs": [
    {
     "name": "stdout",
     "output_type": "stream",
     "text": [
      "PassengerId\n",
      "496   NaN\n",
      "649   NaN\n",
      "32    NaN\n",
      "299   NaN\n",
      "368   NaN\n",
      "Name: Age, dtype: float64\n",
      "\n",
      "PassengerId\n",
      "62    NaN\n",
      "Name: Embarked, dtype: object\n"
     ]
    }
   ],
   "source": [
    "# Before filling\n",
    "missing_age_mask = train_input_df.Age.isnull()\n",
    "missing_embarked_mask = train_input_df.Embarked.isnull()\n",
    "print(train_input_df.Age[missing_age_mask].head())\n",
    "print()\n",
    "print(train_input_df.Embarked[missing_embarked_mask].head())"
   ]
  },
  {
   "cell_type": "code",
   "execution_count": 13,
   "metadata": {
    "tags": []
   },
   "outputs": [
    {
     "name": "stdout",
     "output_type": "stream",
     "text": [
      "PassengerId\n",
      "496    29.488815\n",
      "649    29.488815\n",
      "32     29.488815\n",
      "299    29.488815\n",
      "368    29.488815\n",
      "Name: Age, dtype: float64\n",
      "\n",
      "PassengerId\n",
      "62    S\n",
      "Name: Embarked, dtype: object\n",
      "\n",
      "<class 'pandas.core.frame.DataFrame'>\n",
      "Int64Index: 712 entries, 496 to 153\n",
      "Data columns (total 8 columns):\n",
      " #   Column    Non-Null Count  Dtype  \n",
      "---  ------    --------------  -----  \n",
      " 0   Pclass    712 non-null    int64  \n",
      " 1   Name      712 non-null    object \n",
      " 2   Sex       712 non-null    object \n",
      " 3   Age       712 non-null    float64\n",
      " 4   SibSp     712 non-null    int64  \n",
      " 5   Parch     712 non-null    int64  \n",
      " 6   Fare      712 non-null    float64\n",
      " 7   Embarked  712 non-null    object \n",
      "dtypes: float64(2), int64(3), object(3)\n",
      "memory usage: 66.2+ KB\n"
     ]
    }
   ],
   "source": [
    "# Fill and check the result\n",
    "train_input_df = fill_missing_values(train_input_df, mean_mode_dict)\n",
    "print(train_input_df.Age[missing_age_mask].head())\n",
    "print()\n",
    "print(train_input_df.Embarked[missing_embarked_mask].head())\n",
    "print()\n",
    "train_input_df.info()"
   ]
  },
  {
   "cell_type": "markdown",
   "metadata": {},
   "source": [
    "Đến đây, ta đã bỏ các cột `Name`, `Ticket`, `Cabin`; và điền giá trị thiếu cho cột `Age`, `Embarked`. Kế đến, ta sẽ chuyển các cột có giá trị không phải dạng số (`Sex` và `Embarked`) sang dạng số. Vì `Sex` và `Embarked` là các biến có giá trị rời-rạc và không-có-thứ-tự nên ta có thể chuyển sang dạng \"one-hot\" (và bỏ cột cuối). Vd:\n",
    "\n",
    "```\n",
    "Sex    --> Female | Male\n",
    "------     --------------\n",
    "female --> 1      | 0\n",
    "male   --> 0      | 1\n",
    "female --> 1      | 0\n",
    "```\n",
    "và ta có thể bỏ cột `Male` đi."
   ]
  },
  {
   "cell_type": "code",
   "execution_count": 14,
   "metadata": {},
   "outputs": [],
   "source": [
    "def process_categorical_cols(input_df):\n",
    "    '''\n",
    "    Converts `Sex` column and `Embarked` column to one-hot forms.\n",
    "    \n",
    "    Parameters\n",
    "    ----------\n",
    "    input_df : data frame\n",
    "        The data frame containing inputs.\n",
    "    \n",
    "    Returns\n",
    "    -------\n",
    "    numeric_input_df : data frame\n",
    "        The data frame containing inputs after converting.\n",
    "    '''\n",
    "    sex_tag = ['female', 'male']\n",
    "    Embarked_tag = ['C','Q','S']\n",
    "    index = input_df.index.to_numpy()\n",
    "    value_sex = []\n",
    "    value_C = []\n",
    "    value_Q = []\n",
    "    \n",
    "    print(len(input_df))\n",
    "    \n",
    "    try:\n",
    "        for i in range(len(index)):\n",
    "            if(input_df.loc[int(index[i])]['Sex'] == sex_tag[0]):\n",
    "                value_sex.append(1.0)\n",
    "            else:\n",
    "                value_sex.append(0.0)\n",
    "            if(input_df.loc[int(index[i])]['Embarked'] == Embarked_tag[0]):\n",
    "                value_C.append(1.0)\n",
    "            else:\n",
    "                value_C.append(0.0)\n",
    "            if(input_df.loc[int(index[i])]['Embarked'] == Embarked_tag[1]):\n",
    "                value_Q.append(1.0)\n",
    "            else:\n",
    "                value_Q.append(0.0)\n",
    "    \n",
    "        input_df.insert(6, 'female', value_sex, allow_duplicates = True)\n",
    "        input_df.insert(7, 'C', value_C, allow_duplicates = True)\n",
    "        input_df.insert(8, 'Q', value_Q, allow_duplicates = True)\n",
    "        input_df.drop('Sex', axis=1, inplace=True)\n",
    "        input_df.drop('Embarked', axis=1, inplace=True)\n",
    "    except:\n",
    "        return input_df\n",
    "    return input_df"
   ]
  },
  {
   "cell_type": "code",
   "execution_count": 15,
   "metadata": {
    "tags": []
   },
   "outputs": [
    {
     "name": "stdout",
     "output_type": "stream",
     "text": [
      "712\n",
      "<class 'pandas.core.frame.DataFrame'>\n",
      "Int64Index: 712 entries, 496 to 153\n",
      "Data columns (total 9 columns):\n",
      " #   Column  Non-Null Count  Dtype  \n",
      "---  ------  --------------  -----  \n",
      " 0   Pclass  712 non-null    int64  \n",
      " 1   Name    712 non-null    object \n",
      " 2   Age     712 non-null    float64\n",
      " 3   SibSp   712 non-null    int64  \n",
      " 4   Parch   712 non-null    int64  \n",
      " 5   female  712 non-null    float64\n",
      " 6   C       712 non-null    float64\n",
      " 7   Q       712 non-null    float64\n",
      " 8   Fare    712 non-null    float64\n",
      "dtypes: float64(5), int64(3), object(1)\n",
      "memory usage: 71.8+ KB\n"
     ]
    }
   ],
   "source": [
    "train_input_df = process_categorical_cols(train_input_df)\n",
    "train_input_df.info()"
   ]
  },
  {
   "cell_type": "code",
   "execution_count": 16,
   "metadata": {
    "tags": []
   },
   "outputs": [
    {
     "name": "stdout",
     "output_type": "stream",
     "text": [
      "<class 'pandas.core.frame.DataFrame'>\n",
      "Int64Index: 712 entries, 496 to 153\n",
      "Data columns (total 24 columns):\n",
      " #   Column         Non-Null Count  Dtype  \n",
      "---  ------         --------------  -----  \n",
      " 0   Pclass         712 non-null    int64  \n",
      " 1   Age            712 non-null    float64\n",
      " 2   SibSp          712 non-null    int64  \n",
      " 3   Parch          712 non-null    int64  \n",
      " 4   female         712 non-null    float64\n",
      " 5    Mr            712 non-null    float64\n",
      " 6    Miss          712 non-null    float64\n",
      " 7    Master        712 non-null    float64\n",
      " 8    Dr            712 non-null    float64\n",
      " 9    the Countess  712 non-null    float64\n",
      " 10   Capt          712 non-null    float64\n",
      " 11   Jonkheer      712 non-null    float64\n",
      " 12   Col           712 non-null    float64\n",
      " 13   Don           712 non-null    float64\n",
      " 14   Major         712 non-null    float64\n",
      " 15   Mlle          712 non-null    float64\n",
      " 16   Mme           712 non-null    float64\n",
      " 17   Rev           712 non-null    float64\n",
      " 18   Ms            712 non-null    float64\n",
      " 19   Mrs           712 non-null    float64\n",
      " 20   Lady          712 non-null    float64\n",
      " 21  C              712 non-null    float64\n",
      " 22  Q              712 non-null    float64\n",
      " 23  Fare           712 non-null    float64\n",
      "dtypes: float64(21), int64(3)\n",
      "memory usage: 155.2 KB\n"
     ]
    }
   ],
   "source": [
    "train_input_df = preprocessing_Name(train_input_df)\n",
    "train_input_df.info()"
   ]
  },
  {
   "cell_type": "markdown",
   "metadata": {},
   "source": [
    "Cuối cùng, ta sẽ xây dựng `train_X`. Để giúp Gradient Descent hội tụ nhanh hơn, ta sẽ chuẩn hóa để các cột của `train_X` có mean bằng 0 và có độ lệch chuẩn bằng 1. *Lưu ý là, khi chuẩn hóa `val_X`/`test_X`, ta sẽ dùng mean và độ lệch chuẩn được ước lượng từ tập huấn luyện.*"
   ]
  },
  {
   "cell_type": "code",
   "execution_count": 17,
   "metadata": {
    "tags": []
   },
   "outputs": [
    {
     "name": "stdout",
     "output_type": "stream",
     "text": [
      "(712, 24)\n"
     ]
    }
   ],
   "source": [
    "train_X = train_input_df.values\n",
    "print(train_X.shape)"
   ]
  },
  {
   "cell_type": "code",
   "execution_count": 18,
   "metadata": {},
   "outputs": [],
   "source": [
    "# compute `X_mean` and `X_std`\n",
    "X_mean = train_X.mean(axis=0)\n",
    "X_std = train_X.std(axis=0)"
   ]
  },
  {
   "cell_type": "code",
   "execution_count": 19,
   "metadata": {
    "tags": []
   },
   "outputs": [
    {
     "name": "stdout",
     "output_type": "stream",
     "text": [
      "[2.32303371e+00 2.94888153e+01 5.14044944e-01 3.73595506e-01\n",
      " 3.49719101e-01 5.80056180e-01 2.12078652e-01 4.63483146e-02\n",
      " 7.02247191e-03 1.40449438e-03 1.40449438e-03 1.40449438e-03\n",
      " 2.80898876e-03 1.40449438e-03 2.80898876e-03 2.80898876e-03\n",
      " 1.40449438e-03 8.42696629e-03 1.40449438e-03 1.27808989e-01\n",
      " 1.40449438e-03 1.79775281e-01 8.42696629e-02 3.21830110e+01]\n",
      "[8.34392606e-01 1.31205457e+01 1.07438220e+00 8.00827868e-01\n",
      " 4.76881171e-01 4.93549398e-01 4.08780255e-01 2.10238313e-01\n",
      " 8.35054298e-02 3.74502574e-02 3.74502574e-02 3.74502574e-02\n",
      " 5.29254036e-02 3.74502574e-02 5.29254036e-02 5.29254036e-02\n",
      " 3.74502574e-02 9.14108994e-02 3.74502574e-02 3.33877000e-01\n",
      " 3.74502574e-02 3.84000168e-01 2.77791805e-01 5.22947658e+01]\n"
     ]
    }
   ],
   "source": [
    "print(X_mean)\n",
    "print(X_std)"
   ]
  },
  {
   "cell_type": "code",
   "execution_count": 20,
   "metadata": {},
   "outputs": [],
   "source": [
    "# normalize train_X using X_mean and X_std\n",
    "train_X = (train_X - X_mean) / X_std"
   ]
  },
  {
   "cell_type": "code",
   "execution_count": 21,
   "metadata": {
    "tags": []
   },
   "outputs": [
    {
     "name": "stdout",
     "output_type": "stream",
     "text": [
      "[ 2.09570189e-16 -4.98976640e-18  1.24744160e-18 -4.24130144e-17\n",
      "  6.48669632e-17  3.99181312e-17  8.60734704e-17 -2.49488320e-18\n",
      " -9.97953281e-18  0.00000000e+00  2.49488320e-18 -2.49488320e-18\n",
      " -9.97953281e-18  2.49488320e-18 -9.97953281e-18  0.00000000e+00\n",
      " -4.98976640e-18 -7.48464960e-18  2.49488320e-18 -3.49283648e-17\n",
      "  2.49488320e-18  2.49488320e-17  7.48464960e-18 -5.48874304e-17]\n",
      "[1. 1. 1. 1. 1. 1. 1. 1. 1. 1. 1. 1. 1. 1. 1. 1. 1. 1. 1. 1. 1. 1. 1. 1.]\n"
     ]
    }
   ],
   "source": [
    "print(train_X.mean(axis=0))\n",
    "print(train_X.std(axis=0))"
   ]
  },
  {
   "cell_type": "markdown",
   "metadata": {},
   "source": [
    "**1.2. Xây dựng `train_Y` từ `train_output_df`**\n",
    "\n",
    "(`train_Y` là mảng numpy chứa các đầu ra đúng mà có thể đưa trực tiếp vào mô hình học như ở các bài tập trước.)"
   ]
  },
  {
   "cell_type": "code",
   "execution_count": 22,
   "metadata": {
    "tags": []
   },
   "outputs": [
    {
     "name": "stdout",
     "output_type": "stream",
     "text": [
      "(712, 2)\n"
     ]
    }
   ],
   "source": [
    "from sklearn.preprocessing import OneHotEncoder\n",
    "enc = OneHotEncoder(handle_unknown='ignore')\n",
    "\n",
    "train_Y = train_output_df.values.reshape(-1, 1)\n",
    "enc.fit(train_Y)\n",
    "\n",
    "train_Y = enc.transform(train_Y).toarray()\n",
    "print(train_Y.shape)"
   ]
  },
  {
   "cell_type": "markdown",
   "metadata": {},
   "source": [
    "**2. Tiền xử lý tập validation**"
   ]
  },
  {
   "cell_type": "code",
   "execution_count": 23,
   "metadata": {},
   "outputs": [
    {
     "data": {
      "text/plain": [
       "179"
      ]
     },
     "execution_count": 23,
     "metadata": {},
     "output_type": "execute_result"
    }
   ],
   "source": [
    "val_input_df = val_df.iloc[:, 1:]\n",
    "val_output_df = val_df.Survived\n",
    "len(val_input_df)"
   ]
  },
  {
   "cell_type": "markdown",
   "metadata": {},
   "source": [
    "**2.1. Xây dựng `val_X` từ `val_input_df`**\n",
    "\n",
    "Cách xây dựng `test_X` từ `test_input_df` sẽ *giống hệt* cách xây dựng `val_X` từ `val_input_df`. Do đó, ta sẽ viết phần xử lý này vào một hàm để lúc sau có thể dùng lại cho tập kiểm tra."
   ]
  },
  {
   "cell_type": "code",
   "execution_count": 24,
   "metadata": {},
   "outputs": [],
   "source": [
    "def process_new_input_df(new_input_df, dropped_cols, mean_mode_dict, X_mean, X_std):\n",
    "    '''\n",
    "    Builds `new_X` from `new_input_df`:\n",
    "    1. Drop columns using `dropped_cols` (`dropped_cols` is the list containing names of dropped columns)\n",
    "    2. Fill missing values using `mean_mode_dict` (use `fill_missing_values` function)\n",
    "    3. Convert categorial columns to one-hot (use `process_categorical_cols` function)\n",
    "    4. Subtract by `X_mean` and divide by `X_std`\n",
    "    5. Add `x_0` column\n",
    "    \n",
    "    Parameters\n",
    "    ----------\n",
    "    I'm lazy now ...\n",
    "    \n",
    "    Returns\n",
    "    -------\n",
    "    new_X : numpy array\n",
    "        The matrix of input vectors.\n",
    "    '''\n",
    "    new_input_df = new_input_df.drop(dropped_cols, axis=1)\n",
    "    new_input_df = fill_missing_values(new_input_df, mean_mode_dict)\n",
    "    new_input_df = process_categorical_cols(new_input_df)\n",
    "    new_input_df = preprocessing_Name(new_input_df)\n",
    "    print(new_input_df.info())\n",
    "    new_X = new_input_df.values\n",
    "    new_X = (new_X - X_mean)/X_std\n",
    "#     new_X = np.hstack([np.ones((len(new_X), 1)), new_X])\n",
    "    return new_X"
   ]
  },
  {
   "cell_type": "code",
   "execution_count": 25,
   "metadata": {
    "tags": []
   },
   "outputs": [
    {
     "name": "stdout",
     "output_type": "stream",
     "text": [
      "179\n",
      "<class 'pandas.core.frame.DataFrame'>\n",
      "Int64Index: 179 entries, 529 to 685\n",
      "Data columns (total 24 columns):\n",
      " #   Column         Non-Null Count  Dtype  \n",
      "---  ------         --------------  -----  \n",
      " 0   Pclass         179 non-null    int64  \n",
      " 1   Age            179 non-null    float64\n",
      " 2   SibSp          179 non-null    int64  \n",
      " 3   Parch          179 non-null    int64  \n",
      " 4   female         179 non-null    float64\n",
      " 5    Mr            179 non-null    float64\n",
      " 6    Miss          179 non-null    float64\n",
      " 7    Master        179 non-null    float64\n",
      " 8    Dr            179 non-null    float64\n",
      " 9    the Countess  179 non-null    float64\n",
      " 10   Capt          179 non-null    float64\n",
      " 11   Jonkheer      179 non-null    float64\n",
      " 12   Col           179 non-null    float64\n",
      " 13   Don           179 non-null    float64\n",
      " 14   Major         179 non-null    float64\n",
      " 15   Mlle          179 non-null    float64\n",
      " 16   Mme           179 non-null    float64\n",
      " 17   Rev           179 non-null    float64\n",
      " 18   Ms            179 non-null    float64\n",
      " 19   Mrs           179 non-null    float64\n",
      " 20   Lady          179 non-null    float64\n",
      " 21  C              179 non-null    float64\n",
      " 22  Q              179 non-null    float64\n",
      " 23  Fare           179 non-null    float64\n",
      "dtypes: float64(21), int64(3)\n",
      "memory usage: 39.0 KB\n",
      "None\n"
     ]
    }
   ],
   "source": [
    "val_X = process_new_input_df(val_input_df, dropped_cols, mean_mode_dict, X_mean, X_std)"
   ]
  },
  {
   "cell_type": "markdown",
   "metadata": {},
   "source": [
    "**2.2. Xây dựng `val_Y` từ `val_output_df`**"
   ]
  },
  {
   "cell_type": "code",
   "execution_count": 26,
   "metadata": {},
   "outputs": [
    {
     "data": {
      "text/plain": [
       "(179, 1)"
      ]
     },
     "execution_count": 26,
     "metadata": {},
     "output_type": "execute_result"
    }
   ],
   "source": [
    "val_Y = val_output_df.values.reshape(-1, 1)\n",
    "val_Y.shape"
   ]
  },
  {
   "cell_type": "markdown",
   "metadata": {},
   "source": [
    "### <font color='blue'>Huấn luyện"
   ]
  },
  {
   "cell_type": "code",
   "execution_count": 27,
   "metadata": {},
   "outputs": [],
   "source": [
    "from NeuralNet.Layers import *\n",
    "from NeuralNet.Neuralnet import *\n",
    "from NeuralNet.Optimizers import *"
   ]
  },
  {
   "cell_type": "code",
   "execution_count": 28,
   "metadata": {
    "tags": []
   },
   "outputs": [
    {
     "name": "stderr",
     "output_type": "stream",
     "text": [
      "Epoch 1 - Loss: 0.64729: 100%|██████████| 45/45 [00:02<00:00, 20.46it/s]\n"
     ]
    },
    {
     "name": "stdout",
     "output_type": "stream",
     "text": [
      "Loss at epoch 1: 0.64729 - Train accuracy: 0.63343 - Validation loss: 0.66909 - accuracy: 0.54749\n"
     ]
    },
    {
     "name": "stderr",
     "output_type": "stream",
     "text": [
      "Epoch 2 - Loss: 0.60219: 100%|██████████| 45/45 [00:01<00:00, 27.65it/s]\n"
     ]
    },
    {
     "name": "stdout",
     "output_type": "stream",
     "text": [
      "Loss at epoch 2: 0.60219 - Train accuracy: 0.69663 - Validation loss: 0.59979 - accuracy: 0.60335\n"
     ]
    },
    {
     "name": "stderr",
     "output_type": "stream",
     "text": [
      "Epoch 3 - Loss: 0.54087: 100%|██████████| 45/45 [00:01<00:00, 28.32it/s]\n"
     ]
    },
    {
     "name": "stdout",
     "output_type": "stream",
     "text": [
      "Loss at epoch 3: 0.54087 - Train accuracy: 0.79073 - Validation loss: 0.50640 - accuracy: 0.77654\n"
     ]
    },
    {
     "name": "stderr",
     "output_type": "stream",
     "text": [
      "Epoch 4 - Loss: 0.48129: 100%|██████████| 45/45 [00:01<00:00, 27.46it/s]\n"
     ]
    },
    {
     "name": "stdout",
     "output_type": "stream",
     "text": [
      "Loss at epoch 4: 0.48129 - Train accuracy: 0.78792 - Validation loss: 0.46023 - accuracy: 0.81006\n"
     ]
    },
    {
     "name": "stderr",
     "output_type": "stream",
     "text": [
      "Epoch 5 - Loss: 0.45131: 100%|██████████| 45/45 [00:01<00:00, 25.28it/s]\n"
     ]
    },
    {
     "name": "stdout",
     "output_type": "stream",
     "text": [
      "Loss at epoch 5: 0.45131 - Train accuracy: 0.79213 - Validation loss: 0.42476 - accuracy: 0.81564\n"
     ]
    },
    {
     "name": "stderr",
     "output_type": "stream",
     "text": [
      "Epoch 6 - Loss: 0.44181: 100%|██████████| 45/45 [00:01<00:00, 28.57it/s]\n"
     ]
    },
    {
     "name": "stdout",
     "output_type": "stream",
     "text": [
      "Loss at epoch 6: 0.44181 - Train accuracy: 0.80899 - Validation loss: 0.41659 - accuracy: 0.83240\n"
     ]
    },
    {
     "name": "stderr",
     "output_type": "stream",
     "text": [
      "Epoch 7 - Loss: 0.43686: 100%|██████████| 45/45 [00:01<00:00, 25.42it/s]\n"
     ]
    },
    {
     "name": "stdout",
     "output_type": "stream",
     "text": [
      "Loss at epoch 7: 0.43686 - Train accuracy: 0.81601 - Validation loss: 0.41190 - accuracy: 0.82682\n"
     ]
    },
    {
     "name": "stderr",
     "output_type": "stream",
     "text": [
      "Epoch 8 - Loss: 0.42763: 100%|██████████| 45/45 [00:01<00:00, 27.55it/s]\n"
     ]
    },
    {
     "name": "stdout",
     "output_type": "stream",
     "text": [
      "Loss at epoch 8: 0.42763 - Train accuracy: 0.81461 - Validation loss: 0.41151 - accuracy: 0.84358\n"
     ]
    },
    {
     "name": "stderr",
     "output_type": "stream",
     "text": [
      "Epoch 9 - Loss: 0.41964: 100%|██████████| 45/45 [00:01<00:00, 23.71it/s]\n"
     ]
    },
    {
     "name": "stdout",
     "output_type": "stream",
     "text": [
      "Loss at epoch 9: 0.41964 - Train accuracy: 0.81742 - Validation loss: 0.39841 - accuracy: 0.84358\n"
     ]
    },
    {
     "name": "stderr",
     "output_type": "stream",
     "text": [
      "Epoch 10 - Loss: 0.41708: 100%|██████████| 45/45 [00:01<00:00, 26.86it/s]\n"
     ]
    },
    {
     "name": "stdout",
     "output_type": "stream",
     "text": [
      "Loss at epoch 10: 0.41708 - Train accuracy: 0.82303 - Validation loss: 0.39465 - accuracy: 0.83799\n"
     ]
    },
    {
     "name": "stderr",
     "output_type": "stream",
     "text": [
      "Epoch 11 - Loss: 0.41676: 100%|██████████| 45/45 [00:01<00:00, 28.03it/s]\n"
     ]
    },
    {
     "name": "stdout",
     "output_type": "stream",
     "text": [
      "Loss at epoch 11: 0.41676 - Train accuracy: 0.82865 - Validation loss: 0.38955 - accuracy: 0.83799\n"
     ]
    },
    {
     "name": "stderr",
     "output_type": "stream",
     "text": [
      "Epoch 12 - Loss: 0.41270: 100%|██████████| 45/45 [00:01<00:00, 28.59it/s]\n"
     ]
    },
    {
     "name": "stdout",
     "output_type": "stream",
     "text": [
      "Loss at epoch 12: 0.41270 - Train accuracy: 0.83006 - Validation loss: 0.40030 - accuracy: 0.83799\n"
     ]
    },
    {
     "name": "stderr",
     "output_type": "stream",
     "text": [
      "Epoch 13 - Loss: 0.41368: 100%|██████████| 45/45 [00:01<00:00, 30.61it/s]\n"
     ]
    },
    {
     "name": "stdout",
     "output_type": "stream",
     "text": [
      "Loss at epoch 13: 0.41368 - Train accuracy: 0.83006 - Validation loss: 0.39552 - accuracy: 0.83799\n"
     ]
    },
    {
     "name": "stderr",
     "output_type": "stream",
     "text": [
      "Epoch 14 - Loss: 0.41120: 100%|██████████| 45/45 [00:01<00:00, 28.56it/s]\n"
     ]
    },
    {
     "name": "stdout",
     "output_type": "stream",
     "text": [
      "Loss at epoch 14: 0.41120 - Train accuracy: 0.83146 - Validation loss: 0.39249 - accuracy: 0.83799\n"
     ]
    },
    {
     "name": "stderr",
     "output_type": "stream",
     "text": [
      "Epoch 15 - Loss: 0.41029: 100%|██████████| 45/45 [00:01<00:00, 28.91it/s]\n"
     ]
    },
    {
     "name": "stdout",
     "output_type": "stream",
     "text": [
      "Loss at epoch 15: 0.41029 - Train accuracy: 0.83287 - Validation loss: 0.38567 - accuracy: 0.83799\n"
     ]
    },
    {
     "name": "stderr",
     "output_type": "stream",
     "text": [
      "Epoch 16 - Loss: 0.40672: 100%|██████████| 45/45 [00:01<00:00, 33.20it/s]\n"
     ]
    },
    {
     "name": "stdout",
     "output_type": "stream",
     "text": [
      "Loss at epoch 16: 0.40672 - Train accuracy: 0.83427 - Validation loss: 0.39273 - accuracy: 0.83799\n"
     ]
    },
    {
     "name": "stderr",
     "output_type": "stream",
     "text": [
      "Epoch 17 - Loss: 0.40483: 100%|██████████| 45/45 [00:01<00:00, 33.57it/s]\n"
     ]
    },
    {
     "name": "stdout",
     "output_type": "stream",
     "text": [
      "Loss at epoch 17: 0.40483 - Train accuracy: 0.83427 - Validation loss: 0.38635 - accuracy: 0.83799\n"
     ]
    },
    {
     "name": "stderr",
     "output_type": "stream",
     "text": [
      "Epoch 18 - Loss: 0.40621: 100%|██████████| 45/45 [00:01<00:00, 34.28it/s]\n"
     ]
    },
    {
     "name": "stdout",
     "output_type": "stream",
     "text": [
      "Loss at epoch 18: 0.40621 - Train accuracy: 0.83427 - Validation loss: 0.39742 - accuracy: 0.83799\n"
     ]
    },
    {
     "name": "stderr",
     "output_type": "stream",
     "text": [
      "Epoch 19 - Loss: 0.41332: 100%|██████████| 45/45 [00:01<00:00, 25.18it/s]\n"
     ]
    },
    {
     "name": "stdout",
     "output_type": "stream",
     "text": [
      "Loss at epoch 19: 0.41332 - Train accuracy: 0.83427 - Validation loss: 0.39172 - accuracy: 0.83799\n"
     ]
    },
    {
     "name": "stderr",
     "output_type": "stream",
     "text": [
      "Epoch 20 - Loss: 0.40937: 100%|██████████| 45/45 [00:02<00:00, 20.58it/s]\n"
     ]
    },
    {
     "name": "stdout",
     "output_type": "stream",
     "text": [
      "Loss at epoch 20: 0.40937 - Train accuracy: 0.83567 - Validation loss: 0.39496 - accuracy: 0.83240\n"
     ]
    },
    {
     "name": "stderr",
     "output_type": "stream",
     "text": [
      "Epoch 21 - Loss: 0.40706: 100%|██████████| 45/45 [00:01<00:00, 25.87it/s]\n"
     ]
    },
    {
     "name": "stdout",
     "output_type": "stream",
     "text": [
      "Loss at epoch 21: 0.40706 - Train accuracy: 0.83427 - Validation loss: 0.39221 - accuracy: 0.83799\n"
     ]
    },
    {
     "name": "stderr",
     "output_type": "stream",
     "text": [
      "Epoch 22 - Loss: 0.40478: 100%|██████████| 45/45 [00:01<00:00, 32.69it/s]\n"
     ]
    },
    {
     "name": "stdout",
     "output_type": "stream",
     "text": [
      "Loss at epoch 22: 0.40478 - Train accuracy: 0.83427 - Validation loss: 0.39582 - accuracy: 0.83799\n"
     ]
    },
    {
     "name": "stderr",
     "output_type": "stream",
     "text": [
      "Epoch 23 - Loss: 0.40682: 100%|██████████| 45/45 [00:01<00:00, 23.82it/s]\n"
     ]
    },
    {
     "name": "stdout",
     "output_type": "stream",
     "text": [
      "Loss at epoch 23: 0.40682 - Train accuracy: 0.83848 - Validation loss: 0.39228 - accuracy: 0.83240\n"
     ]
    },
    {
     "name": "stderr",
     "output_type": "stream",
     "text": [
      "Epoch 24 - Loss: 0.40620: 100%|██████████| 45/45 [00:02<00:00, 20.35it/s]\n"
     ]
    },
    {
     "name": "stdout",
     "output_type": "stream",
     "text": [
      "Loss at epoch 24: 0.40620 - Train accuracy: 0.83708 - Validation loss: 0.38814 - accuracy: 0.83799\n"
     ]
    },
    {
     "name": "stderr",
     "output_type": "stream",
     "text": [
      "Epoch 25 - Loss: 0.40566: 100%|██████████| 45/45 [00:01<00:00, 23.56it/s]\n"
     ]
    },
    {
     "name": "stdout",
     "output_type": "stream",
     "text": [
      "Loss at epoch 25: 0.40566 - Train accuracy: 0.83567 - Validation loss: 0.38798 - accuracy: 0.83799\n"
     ]
    },
    {
     "name": "stderr",
     "output_type": "stream",
     "text": [
      "Epoch 26 - Loss: 0.41350: 100%|██████████| 45/45 [00:01<00:00, 33.43it/s]\n"
     ]
    },
    {
     "name": "stdout",
     "output_type": "stream",
     "text": [
      "Loss at epoch 26: 0.41350 - Train accuracy: 0.83567 - Validation loss: 0.39140 - accuracy: 0.83799\n"
     ]
    },
    {
     "name": "stderr",
     "output_type": "stream",
     "text": [
      "Epoch 27 - Loss: 0.41005: 100%|██████████| 45/45 [00:01<00:00, 33.31it/s]\n"
     ]
    },
    {
     "name": "stdout",
     "output_type": "stream",
     "text": [
      "Loss at epoch 27: 0.41005 - Train accuracy: 0.83848 - Validation loss: 0.39118 - accuracy: 0.82123\n"
     ]
    },
    {
     "name": "stderr",
     "output_type": "stream",
     "text": [
      "Epoch 28 - Loss: 0.41224: 100%|██████████| 45/45 [00:01<00:00, 33.08it/s]\n"
     ]
    },
    {
     "name": "stdout",
     "output_type": "stream",
     "text": [
      "Loss at epoch 28: 0.41224 - Train accuracy: 0.83848 - Validation loss: 0.38384 - accuracy: 0.82123\n"
     ]
    },
    {
     "name": "stderr",
     "output_type": "stream",
     "text": [
      "Epoch 29 - Loss: 0.40582: 100%|██████████| 45/45 [00:01<00:00, 26.04it/s]\n"
     ]
    },
    {
     "name": "stdout",
     "output_type": "stream",
     "text": [
      "Loss at epoch 29: 0.40582 - Train accuracy: 0.83848 - Validation loss: 0.38997 - accuracy: 0.82123\n"
     ]
    },
    {
     "name": "stderr",
     "output_type": "stream",
     "text": [
      "Epoch 30 - Loss: 0.40276: 100%|██████████| 45/45 [00:01<00:00, 27.11it/s]\n"
     ]
    },
    {
     "name": "stdout",
     "output_type": "stream",
     "text": [
      "Loss at epoch 30: 0.40276 - Train accuracy: 0.83848 - Validation loss: 0.38973 - accuracy: 0.82123\n"
     ]
    },
    {
     "name": "stderr",
     "output_type": "stream",
     "text": [
      "Epoch 31 - Loss: 0.40842: 100%|██████████| 45/45 [00:01<00:00, 28.71it/s]\n"
     ]
    },
    {
     "name": "stdout",
     "output_type": "stream",
     "text": [
      "Loss at epoch 31: 0.40842 - Train accuracy: 0.83989 - Validation loss: 0.39191 - accuracy: 0.83799\n"
     ]
    },
    {
     "name": "stderr",
     "output_type": "stream",
     "text": [
      "Epoch 32 - Loss: 0.40579: 100%|██████████| 45/45 [00:01<00:00, 27.75it/s]\n"
     ]
    },
    {
     "name": "stdout",
     "output_type": "stream",
     "text": [
      "Loss at epoch 32: 0.40579 - Train accuracy: 0.83848 - Validation loss: 0.38825 - accuracy: 0.82123\n"
     ]
    },
    {
     "name": "stderr",
     "output_type": "stream",
     "text": [
      "Epoch 33 - Loss: 0.40140: 100%|██████████| 45/45 [00:01<00:00, 24.65it/s]\n"
     ]
    },
    {
     "name": "stdout",
     "output_type": "stream",
     "text": [
      "Loss at epoch 33: 0.40140 - Train accuracy: 0.83989 - Validation loss: 0.38643 - accuracy: 0.81564\n"
     ]
    },
    {
     "name": "stderr",
     "output_type": "stream",
     "text": [
      "Epoch 34 - Loss: 0.40266: 100%|██████████| 45/45 [00:01<00:00, 26.10it/s]\n"
     ]
    },
    {
     "name": "stdout",
     "output_type": "stream",
     "text": [
      "Loss at epoch 34: 0.40266 - Train accuracy: 0.83989 - Validation loss: 0.39209 - accuracy: 0.82123\n"
     ]
    },
    {
     "name": "stderr",
     "output_type": "stream",
     "text": [
      "Epoch 35 - Loss: 0.40352: 100%|██████████| 45/45 [00:01<00:00, 27.31it/s]\n"
     ]
    },
    {
     "name": "stdout",
     "output_type": "stream",
     "text": [
      "Loss at epoch 35: 0.40352 - Train accuracy: 0.83989 - Validation loss: 0.38828 - accuracy: 0.81564\n"
     ]
    },
    {
     "name": "stderr",
     "output_type": "stream",
     "text": [
      "Epoch 36 - Loss: 0.40282: 100%|██████████| 45/45 [00:01<00:00, 27.96it/s]\n"
     ]
    },
    {
     "name": "stdout",
     "output_type": "stream",
     "text": [
      "Loss at epoch 36: 0.40282 - Train accuracy: 0.83989 - Validation loss: 0.38717 - accuracy: 0.81564\n"
     ]
    },
    {
     "name": "stderr",
     "output_type": "stream",
     "text": [
      "Epoch 37 - Loss: 0.40420: 100%|██████████| 45/45 [00:01<00:00, 29.10it/s]\n"
     ]
    },
    {
     "name": "stdout",
     "output_type": "stream",
     "text": [
      "Loss at epoch 37: 0.40420 - Train accuracy: 0.83567 - Validation loss: 0.38895 - accuracy: 0.81564\n"
     ]
    },
    {
     "name": "stderr",
     "output_type": "stream",
     "text": [
      "Epoch 38 - Loss: 0.40177: 100%|██████████| 45/45 [00:01<00:00, 28.11it/s]\n"
     ]
    },
    {
     "name": "stdout",
     "output_type": "stream",
     "text": [
      "Loss at epoch 38: 0.40177 - Train accuracy: 0.83989 - Validation loss: 0.38933 - accuracy: 0.82123\n"
     ]
    },
    {
     "name": "stderr",
     "output_type": "stream",
     "text": [
      "Epoch 39 - Loss: 0.40289: 100%|██████████| 45/45 [00:01<00:00, 27.02it/s]\n"
     ]
    },
    {
     "name": "stdout",
     "output_type": "stream",
     "text": [
      "Loss at epoch 39: 0.40289 - Train accuracy: 0.83989 - Validation loss: 0.38592 - accuracy: 0.83799\n"
     ]
    },
    {
     "name": "stderr",
     "output_type": "stream",
     "text": [
      "Epoch 40 - Loss: 0.40595: 100%|██████████| 45/45 [00:01<00:00, 28.84it/s]\n"
     ]
    },
    {
     "name": "stdout",
     "output_type": "stream",
     "text": [
      "Loss at epoch 40: 0.40595 - Train accuracy: 0.83427 - Validation loss: 0.38609 - accuracy: 0.82123\n"
     ]
    },
    {
     "name": "stderr",
     "output_type": "stream",
     "text": [
      "Epoch 41 - Loss: 0.40441: 100%|██████████| 45/45 [00:01<00:00, 29.25it/s]\n"
     ]
    },
    {
     "name": "stdout",
     "output_type": "stream",
     "text": [
      "Loss at epoch 41: 0.40441 - Train accuracy: 0.83848 - Validation loss: 0.39433 - accuracy: 0.82123\n"
     ]
    },
    {
     "name": "stderr",
     "output_type": "stream",
     "text": [
      "Epoch 42 - Loss: 0.40527: 100%|██████████| 45/45 [00:01<00:00, 27.45it/s]\n"
     ]
    },
    {
     "name": "stdout",
     "output_type": "stream",
     "text": [
      "Loss at epoch 42: 0.40527 - Train accuracy: 0.83848 - Validation loss: 0.37977 - accuracy: 0.84358\n"
     ]
    },
    {
     "name": "stderr",
     "output_type": "stream",
     "text": [
      "Epoch 43 - Loss: 0.40686: 100%|██████████| 45/45 [00:01<00:00, 26.67it/s]\n"
     ]
    },
    {
     "name": "stdout",
     "output_type": "stream",
     "text": [
      "Loss at epoch 43: 0.40686 - Train accuracy: 0.83989 - Validation loss: 0.39185 - accuracy: 0.82123\n"
     ]
    },
    {
     "name": "stderr",
     "output_type": "stream",
     "text": [
      "Epoch 44 - Loss: 0.40107: 100%|██████████| 45/45 [00:01<00:00, 26.77it/s]\n"
     ]
    },
    {
     "name": "stdout",
     "output_type": "stream",
     "text": [
      "Loss at epoch 44: 0.40107 - Train accuracy: 0.83989 - Validation loss: 0.37897 - accuracy: 0.83240\n"
     ]
    },
    {
     "name": "stderr",
     "output_type": "stream",
     "text": [
      "Epoch 45 - Loss: 0.40375: 100%|██████████| 45/45 [00:01<00:00, 30.33it/s]\n"
     ]
    },
    {
     "name": "stdout",
     "output_type": "stream",
     "text": [
      "Loss at epoch 45: 0.40375 - Train accuracy: 0.83989 - Validation loss: 0.39155 - accuracy: 0.82123\n"
     ]
    },
    {
     "name": "stderr",
     "output_type": "stream",
     "text": [
      "Epoch 46 - Loss: 0.39579: 100%|██████████| 45/45 [00:01<00:00, 23.30it/s]\n"
     ]
    },
    {
     "name": "stdout",
     "output_type": "stream",
     "text": [
      "Loss at epoch 46: 0.39579 - Train accuracy: 0.83848 - Validation loss: 0.38228 - accuracy: 0.82682\n"
     ]
    },
    {
     "name": "stderr",
     "output_type": "stream",
     "text": [
      "Epoch 47 - Loss: 0.40337: 100%|██████████| 45/45 [00:01<00:00, 27.33it/s]\n"
     ]
    },
    {
     "name": "stdout",
     "output_type": "stream",
     "text": [
      "Loss at epoch 47: 0.40337 - Train accuracy: 0.83708 - Validation loss: 0.39082 - accuracy: 0.82682\n"
     ]
    },
    {
     "name": "stderr",
     "output_type": "stream",
     "text": [
      "Epoch 48 - Loss: 0.39906: 100%|██████████| 45/45 [00:01<00:00, 27.90it/s]\n"
     ]
    },
    {
     "name": "stdout",
     "output_type": "stream",
     "text": [
      "Loss at epoch 48: 0.39906 - Train accuracy: 0.83287 - Validation loss: 0.39415 - accuracy: 0.82123\n"
     ]
    },
    {
     "name": "stderr",
     "output_type": "stream",
     "text": [
      "Epoch 49 - Loss: 0.39693: 100%|██████████| 45/45 [00:01<00:00, 25.85it/s]\n"
     ]
    },
    {
     "name": "stdout",
     "output_type": "stream",
     "text": [
      "Loss at epoch 49: 0.39693 - Train accuracy: 0.83708 - Validation loss: 0.38747 - accuracy: 0.83240\n"
     ]
    },
    {
     "name": "stderr",
     "output_type": "stream",
     "text": [
      "Epoch 50 - Loss: 0.40367: 100%|██████████| 45/45 [00:01<00:00, 28.60it/s]\n"
     ]
    },
    {
     "name": "stdout",
     "output_type": "stream",
     "text": [
      "Loss at epoch 50: 0.40367 - Train accuracy: 0.83848 - Validation loss: 0.39623 - accuracy: 0.82123\n"
     ]
    }
   ],
   "source": [
    "EPOCHS = 50\n",
    "optimizer = Adam(0.0001)\n",
    "loss_func = BinaryCrossEntropy()\n",
    "archs = [\n",
    "    Input(),\n",
    "    Dense(num_neurons=1024, weight_init=\"glorot_normal\", use_bias=False),\n",
    "    Activation(activation=\"swish\"),\n",
    "    Dropout(keep_prob=0.5),\n",
    "    Dense(num_neurons=512, weight_init=\"glorot_normal\"),\n",
    "    Activation(activation=\"swish\"),\n",
    "    Dropout(keep_prob=0.5),\n",
    "    Dense(num_neurons=128, weight_init=\"glorot_normal\", use_bias=False),\n",
    "    Activation(activation=\"sigmoid\"),\n",
    "    Dense(num_neurons=2, weight_init=\"glorot_normal\"),\n",
    "    Activation(activation=\"softmax\"),\n",
    "]\n",
    "\n",
    "val_set = (val_X, enc.transform(val_Y).toarray())\n",
    "\n",
    "model = Model(optimizer=optimizer, layers=archs, loss_func=loss_func)\n",
    "train_losses, val_losses, train_accs, val_accs = model.fit(train_X, train_Y, val_set, batch_size=16, epochs=EPOCHS)\n",
    "\n",
    "# import pickle\n",
    "# with open(\"./weights/titanic_ann.pkl\", \"wb\") as f:\n",
    "#     pickle.dump(model, f, pickle.HIGHEST_PROTOCOL)"
   ]
  },
  {
   "cell_type": "code",
   "execution_count": 29,
   "metadata": {},
   "outputs": [
    {
     "data": {
      "image/png": "[encoded data removed]",
      "text/plain": [
       "<Figure size 432x288 with 1 Axes>"
      ]
     },
     "metadata": {
      "needs_background": "light"
     },
     "output_type": "display_data"
    }
   ],
   "source": [
    "import matplotlib.pyplot as plt\n",
    "plt.plot(range(EPOCHS), train_losses, label='training')\n",
    "plt.plot(range(EPOCHS), val_losses, label='validation', color='orange')\n",
    "plt.ylabel('Cost')\n",
    "plt.xlabel('Epochs')\n",
    "plt.show()"
   ]
  },
  {
   "cell_type": "code",
   "execution_count": 30,
   "metadata": {},
   "outputs": [
    {
     "data": {
      "image/png": "[encoded data removed]",
      "text/plain": [
       "<Figure size 432x288 with 1 Axes>"
      ]
     },
     "metadata": {
      "needs_background": "light"
     },
     "output_type": "display_data"
    }
   ],
   "source": [
    "plt.plot(range(EPOCHS), train_accs, label='training')\n",
    "plt.plot(range(EPOCHS), val_accs, label='validation', color='orange')\n",
    "plt.ylabel('Accuracy')\n",
    "plt.xlabel('Epochs')\n",
    "plt.show()"
   ]
  },
  {
   "cell_type": "code",
   "execution_count": 31,
   "metadata": {
    "tags": []
   },
   "outputs": [
    {
     "name": "stdout",
     "output_type": "stream",
     "text": [
      "Accuracy: 0.8212290502793296\n"
     ]
    }
   ],
   "source": [
    "# with open(\"./weights/titanic_ann.pkl\", \"rb\") as f:\n",
    "#     model = pickle.load(f)\n",
    "pred = model.predict(val_X)\n",
    "# val_Y = enc.inverse_transform(val_Y).reshape(val_Y.shape[0])\n",
    "print(\"Accuracy:\", len(pred[val_Y.reshape(val_Y.shape[0]) == pred]) / len(pred))\n",
    "from sklearn.metrics import confusion_matrix\n",
    "array = confusion_matrix(val_Y.reshape(val_Y.shape[0]), pred)"
   ]
  },
  {
   "cell_type": "code",
   "execution_count": 32,
   "metadata": {},
   "outputs": [],
   "source": [
    "def plot_confusion_matrix(cm,\n",
    "                          target_names,\n",
    "                          title='Confusion matrix',\n",
    "                          cmap=None,\n",
    "                          normalize=True):\n",
    "\n",
    "    import matplotlib.pyplot as plt\n",
    "    import numpy as np\n",
    "    import itertools\n",
    "\n",
    "    accuracy = np.trace(cm) / float(np.sum(cm))\n",
    "    misclass = 1 - accuracy\n",
    "\n",
    "    if cmap is None:\n",
    "        cmap = plt.get_cmap('Blues')\n",
    "\n",
    "    plt.figure(figsize=(8, 6))\n",
    "    plt.imshow(cm, interpolation='nearest', cmap=cmap)\n",
    "    plt.title(title)\n",
    "    plt.colorbar()\n",
    "\n",
    "    if target_names is not None:\n",
    "        tick_marks = np.arange(len(target_names))\n",
    "        plt.xticks(tick_marks, target_names, rotation=45)\n",
    "        plt.yticks(tick_marks, target_names)\n",
    "\n",
    "    if normalize:\n",
    "        cm = cm.astype('float') / cm.sum(axis=1)[:, np.newaxis]\n",
    "\n",
    "\n",
    "    thresh = cm.max() / 1.5 if normalize else cm.max() / 2\n",
    "    for i, j in itertools.product(range(cm.shape[0]), range(cm.shape[1])):\n",
    "        if normalize:\n",
    "            plt.text(j, i, \"{:0.4f}\".format(cm[i, j]),\n",
    "                     horizontalalignment=\"center\",\n",
    "                     color=\"white\" if cm[i, j] > thresh else \"black\")\n",
    "        else:\n",
    "            plt.text(j, i, \"{:,}\".format(cm[i, j]),\n",
    "                     horizontalalignment=\"center\",\n",
    "                     color=\"white\" if cm[i, j] > thresh else \"black\")\n",
    "\n",
    "\n",
    "    plt.tight_layout()\n",
    "    plt.ylabel('True label')\n",
    "    plt.xlabel('Predicted label\\naccuracy={:0.4f}; misclass={:0.4f}'.format(accuracy, misclass))\n",
    "    plt.show()"
   ]
  },
  {
   "cell_type": "code",
   "execution_count": 33,
   "metadata": {},
   "outputs": [
    {
     "data": {
      "image/png": "[encoded data removed]",
      "text/plain": [
       "<Figure size 576x432 with 2 Axes>"
      ]
     },
     "metadata": {
      "needs_background": "light"
     },
     "output_type": "display_data"
    }
   ],
   "source": [
    "plot_confusion_matrix(cm           = array,\n",
    "                      normalize    = False,\n",
    "                      target_names = ['0', '1'],\n",
    "                      title        = \"Confusion Matrix\")"
   ]
  },
  {
   "cell_type": "markdown",
   "metadata": {},
   "source": [
    "## <font color='blue'>Kiểm tra (test)"
   ]
  },
  {
   "cell_type": "markdown",
   "metadata": {},
   "source": [
    "**1. Đọc dữ liệu tập kiểm tra vào data frame `test_input_df`**"
   ]
  },
  {
   "cell_type": "code",
   "execution_count": 34,
   "metadata": {
    "tags": []
   },
   "outputs": [
    {
     "name": "stdout",
     "output_type": "stream",
     "text": [
      "<class 'pandas.core.frame.DataFrame'>\n",
      "Int64Index: 418 entries, 892 to 1309\n",
      "Data columns (total 10 columns):\n",
      " #   Column    Non-Null Count  Dtype  \n",
      "---  ------    --------------  -----  \n",
      " 0   Pclass    418 non-null    int64  \n",
      " 1   Name      418 non-null    object \n",
      " 2   Sex       418 non-null    object \n",
      " 3   Age       332 non-null    float64\n",
      " 4   SibSp     418 non-null    int64  \n",
      " 5   Parch     418 non-null    int64  \n",
      " 6   Ticket    418 non-null    object \n",
      " 7   Fare      417 non-null    float64\n",
      " 8   Cabin     91 non-null     object \n",
      " 9   Embarked  418 non-null    object \n",
      "dtypes: float64(2), int64(3), object(5)\n",
      "memory usage: 35.9+ KB\n"
     ]
    },
    {
     "data": {
      "text/html": [
       "<div>\n",
       "<style scoped>\n",
       "    .dataframe tbody tr th:only-of-type {\n",
       "        vertical-align: middle;\n",
       "    }\n",
       "\n",
       "    .dataframe tbody tr th {\n",
       "        vertical-align: top;\n",
       "    }\n",
       "\n",
       "    .dataframe thead th {\n",
       "        text-align: right;\n",
       "    }\n",
       "</style>\n",
       "<table border=\"1\" class=\"dataframe\">\n",
       "  <thead>\n",
       "    <tr style=\"text-align: right;\">\n",
       "      <th></th>\n",
       "      <th>Pclass</th>\n",
       "      <th>Name</th>\n",
       "      <th>Sex</th>\n",
       "      <th>Age</th>\n",
       "      <th>SibSp</th>\n",
       "      <th>Parch</th>\n",
       "      <th>Ticket</th>\n",
       "      <th>Fare</th>\n",
       "      <th>Cabin</th>\n",
       "      <th>Embarked</th>\n",
       "    </tr>\n",
       "    <tr>\n",
       "      <th>PassengerId</th>\n",
       "      <th></th>\n",
       "      <th></th>\n",
       "      <th></th>\n",
       "      <th></th>\n",
       "      <th></th>\n",
       "      <th></th>\n",
       "      <th></th>\n",
       "      <th></th>\n",
       "      <th></th>\n",
       "      <th></th>\n",
       "    </tr>\n",
       "  </thead>\n",
       "  <tbody>\n",
       "    <tr>\n",
       "      <th>892</th>\n",
       "      <td>3</td>\n",
       "      <td>Kelly, Mr. James</td>\n",
       "      <td>male</td>\n",
       "      <td>34.5</td>\n",
       "      <td>0</td>\n",
       "      <td>0</td>\n",
       "      <td>330911</td>\n",
       "      <td>7.8292</td>\n",
       "      <td>NaN</td>\n",
       "      <td>Q</td>\n",
       "    </tr>\n",
       "    <tr>\n",
       "      <th>893</th>\n",
       "      <td>3</td>\n",
       "      <td>Wilkes, Mrs. James (Ellen Needs)</td>\n",
       "      <td>female</td>\n",
       "      <td>47.0</td>\n",
       "      <td>1</td>\n",
       "      <td>0</td>\n",
       "      <td>363272</td>\n",
       "      <td>7.0000</td>\n",
       "      <td>NaN</td>\n",
       "      <td>S</td>\n",
       "    </tr>\n",
       "    <tr>\n",
       "      <th>894</th>\n",
       "      <td>2</td>\n",
       "      <td>Myles, Mr. Thomas Francis</td>\n",
       "      <td>male</td>\n",
       "      <td>62.0</td>\n",
       "      <td>0</td>\n",
       "      <td>0</td>\n",
       "      <td>240276</td>\n",
       "      <td>9.6875</td>\n",
       "      <td>NaN</td>\n",
       "      <td>Q</td>\n",
       "    </tr>\n",
       "    <tr>\n",
       "      <th>895</th>\n",
       "      <td>3</td>\n",
       "      <td>Wirz, Mr. Albert</td>\n",
       "      <td>male</td>\n",
       "      <td>27.0</td>\n",
       "      <td>0</td>\n",
       "      <td>0</td>\n",
       "      <td>315154</td>\n",
       "      <td>8.6625</td>\n",
       "      <td>NaN</td>\n",
       "      <td>S</td>\n",
       "    </tr>\n",
       "    <tr>\n",
       "      <th>896</th>\n",
       "      <td>3</td>\n",
       "      <td>Hirvonen, Mrs. Alexander (Helga E Lindqvist)</td>\n",
       "      <td>female</td>\n",
       "      <td>22.0</td>\n",
       "      <td>1</td>\n",
       "      <td>1</td>\n",
       "      <td>3101298</td>\n",
       "      <td>12.2875</td>\n",
       "      <td>NaN</td>\n",
       "      <td>S</td>\n",
       "    </tr>\n",
       "  </tbody>\n",
       "</table>\n",
       "</div>"
      ],
      "text/plain": [
       "             Pclass                                          Name     Sex  \\\n",
       "PassengerId                                                                 \n",
       "892               3                              Kelly, Mr. James    male   \n",
       "893               3              Wilkes, Mrs. James (Ellen Needs)  female   \n",
       "894               2                     Myles, Mr. Thomas Francis    male   \n",
       "895               3                              Wirz, Mr. Albert    male   \n",
       "896               3  Hirvonen, Mrs. Alexander (Helga E Lindqvist)  female   \n",
       "\n",
       "              Age  SibSp  Parch   Ticket     Fare Cabin Embarked  \n",
       "PassengerId                                                       \n",
       "892          34.5      0      0   330911   7.8292   NaN        Q  \n",
       "893          47.0      1      0   363272   7.0000   NaN        S  \n",
       "894          62.0      0      0   240276   9.6875   NaN        Q  \n",
       "895          27.0      0      0   315154   8.6625   NaN        S  \n",
       "896          22.0      1      1  3101298  12.2875   NaN        S  "
      ]
     },
     "execution_count": 34,
     "metadata": {},
     "output_type": "execute_result"
    }
   ],
   "source": [
    "test_input_df = pd.read_csv('./sample_datas/titanic/test.csv', index_col=0)\n",
    "test_input_df.info()\n",
    "test_input_df.head()"
   ]
  },
  {
   "cell_type": "markdown",
   "metadata": {},
   "source": [
    "**2. Xây dựng `test_X` từ `test_input_df`**"
   ]
  },
  {
   "cell_type": "code",
   "execution_count": 35,
   "metadata": {
    "tags": []
   },
   "outputs": [
    {
     "name": "stdout",
     "output_type": "stream",
     "text": [
      "418\n",
      "<class 'pandas.core.frame.DataFrame'>\n",
      "Int64Index: 418 entries, 892 to 1309\n",
      "Data columns (total 24 columns):\n",
      " #   Column         Non-Null Count  Dtype  \n",
      "---  ------         --------------  -----  \n",
      " 0   Pclass         418 non-null    int64  \n",
      " 1   Age            418 non-null    float64\n",
      " 2   SibSp          418 non-null    int64  \n",
      " 3   Parch          418 non-null    int64  \n",
      " 4   female         418 non-null    float64\n",
      " 5    Mr            418 non-null    float64\n",
      " 6    Miss          418 non-null    float64\n",
      " 7    Master        418 non-null    float64\n",
      " 8    Dr            418 non-null    float64\n",
      " 9    the Countess  418 non-null    float64\n",
      " 10   Capt          418 non-null    float64\n",
      " 11   Jonkheer      418 non-null    float64\n",
      " 12   Col           418 non-null    float64\n",
      " 13   Don           418 non-null    float64\n",
      " 14   Major         418 non-null    float64\n",
      " 15   Mlle          418 non-null    float64\n",
      " 16   Mme           418 non-null    float64\n",
      " 17   Rev           418 non-null    float64\n",
      " 18   Ms            418 non-null    float64\n",
      " 19   Mrs           418 non-null    float64\n",
      " 20   Lady          418 non-null    float64\n",
      " 21  C              418 non-null    float64\n",
      " 22  Q              418 non-null    float64\n",
      " 23  Fare           418 non-null    float64\n",
      "dtypes: float64(21), int64(3)\n",
      "memory usage: 97.8 KB\n",
      "None\n"
     ]
    }
   ],
   "source": [
    "test_X = process_new_input_df(test_input_df, dropped_cols, mean_mode_dict, X_mean, X_std)"
   ]
  },
  {
   "cell_type": "markdown",
   "metadata": {},
   "source": [
    "**3. Dự đoán nhãn lớp của test_X**"
   ]
  },
  {
   "cell_type": "code",
   "execution_count": 38,
   "metadata": {},
   "outputs": [
    {
     "data": {
      "text/html": [
       "<div>\n",
       "<style scoped>\n",
       "    .dataframe tbody tr th:only-of-type {\n",
       "        vertical-align: middle;\n",
       "    }\n",
       "\n",
       "    .dataframe tbody tr th {\n",
       "        vertical-align: top;\n",
       "    }\n",
       "\n",
       "    .dataframe thead th {\n",
       "        text-align: right;\n",
       "    }\n",
       "</style>\n",
       "<table border=\"1\" class=\"dataframe\">\n",
       "  <thead>\n",
       "    <tr style=\"text-align: right;\">\n",
       "      <th></th>\n",
       "      <th>Survived</th>\n",
       "    </tr>\n",
       "    <tr>\n",
       "      <th>PassengerId</th>\n",
       "      <th></th>\n",
       "    </tr>\n",
       "  </thead>\n",
       "  <tbody>\n",
       "    <tr>\n",
       "      <th>892</th>\n",
       "      <td>0</td>\n",
       "    </tr>\n",
       "    <tr>\n",
       "      <th>893</th>\n",
       "      <td>1</td>\n",
       "    </tr>\n",
       "    <tr>\n",
       "      <th>894</th>\n",
       "      <td>0</td>\n",
       "    </tr>\n",
       "    <tr>\n",
       "      <th>895</th>\n",
       "      <td>0</td>\n",
       "    </tr>\n",
       "    <tr>\n",
       "      <th>896</th>\n",
       "      <td>1</td>\n",
       "    </tr>\n",
       "  </tbody>\n",
       "</table>\n",
       "</div>"
      ],
      "text/plain": [
       "             Survived\n",
       "PassengerId          \n",
       "892                 0\n",
       "893                 1\n",
       "894                 0\n",
       "895                 0\n",
       "896                 1"
      ]
     },
     "execution_count": 38,
     "metadata": {},
     "output_type": "execute_result"
    }
   ],
   "source": [
    "# with open(\"./weights/titanic_ann.pkl\", \"rb\") as f:\n",
    "#             nn = pickle.load(f)\n",
    "        \n",
    "# Predict\n",
    "preds = model.predict(test_X)\n",
    "preds_df = pd.DataFrame(preds, index=test_input_df.index, columns=['Survived'])\n",
    "preds_df.head()\n",
    "# preds_df.to_csv('predicts/titanic_ann_preds.csv')"
   ]
  },
  {
   "cell_type": "markdown",
   "metadata": {
    "scrolled": true
   },
   "source": [
    "*submit file `titanic_ann_preds.csv` lên [Kaggle](https://www.kaggle.com/c/titanic/submissions/attach), và ghi nhận lại độ chính xác.*"
   ]
  },
  {
   "cell_type": "markdown",
   "metadata": {},
   "source": [
    "Kết quả cho single model MLP from Scratch: ```Your submission scored 0.80622```"
   ]
  }
 ],
 "metadata": {
  "anaconda-cloud": {},
  "hide_input": false,
  "kernelspec": {
   "display_name": "Python 3.9.7 ('base')",
   "language": "python",
   "name": "python3"
  },
  "language_info": {
   "codemirror_mode": {
    "name": "ipython",
    "version": 3
   },
   "file_extension": ".py",
   "mimetype": "text/x-python",
   "name": "python",
   "nbconvert_exporter": "python",
   "pygments_lexer": "ipython3",
   "version": "3.9.7"
  },
  "toc": {
   "base_numbering": 1,
   "nav_menu": {
    "height": "153px",
    "width": "252px"
   },
   "number_sections": true,
   "sideBar": true,
   "skip_h1_title": true,
   "title_cell": "Table of Contents",
   "title_sidebar": "Contents",
   "toc_cell": false,
   "toc_position": {
    "height": "calc(100% - 180px)",
    "left": "10px",
    "top": "150px",
    "width": "175.188px"
   },
   "toc_section_display": "block",
   "toc_window_display": true
  },
  "vscode": {
   "interpreter": {
    "hash": "588c3c65383b76165a6314fd44887f12126f262e1694c1f7078238351290b054"
   }
  }
 },
 "nbformat": 4,
 "nbformat_minor": 1
}
